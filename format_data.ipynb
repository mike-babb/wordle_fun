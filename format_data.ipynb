{
 "cells": [
  {
   "cell_type": "code",
   "execution_count": 1,
   "id": "c680b13b",
   "metadata": {},
   "outputs": [],
   "source": [
    "# mike babb\n",
    "# 2022 03 03\n",
    "# import and format data"
   ]
  },
  {
   "cell_type": "code",
   "execution_count": 71,
   "id": "53308855",
   "metadata": {},
   "outputs": [],
   "source": [
    "# standard\n",
    "import pickle\n",
    "import os\n",
    "from string import ascii_lowercase"
   ]
  },
  {
   "cell_type": "code",
   "execution_count": 3,
   "id": "7d8bac27",
   "metadata": {},
   "outputs": [],
   "source": [
    "# external\n",
    "import pandas as pd\n",
    "import numpy as np"
   ]
  },
  {
   "cell_type": "code",
   "execution_count": 4,
   "id": "f9f53c77",
   "metadata": {},
   "outputs": [],
   "source": [
    "# import the \n",
    "df = pd.read_csv(filepath_or_buffer='words5.csv', header = None, names = ['word'])"
   ]
  },
  {
   "cell_type": "code",
   "execution_count": 5,
   "id": "20ff3554",
   "metadata": {},
   "outputs": [
    {
     "data": {
      "text/html": [
       "<div>\n",
       "<style scoped>\n",
       "    .dataframe tbody tr th:only-of-type {\n",
       "        vertical-align: middle;\n",
       "    }\n",
       "\n",
       "    .dataframe tbody tr th {\n",
       "        vertical-align: top;\n",
       "    }\n",
       "\n",
       "    .dataframe thead th {\n",
       "        text-align: right;\n",
       "    }\n",
       "</style>\n",
       "<table border=\"1\" class=\"dataframe\">\n",
       "  <thead>\n",
       "    <tr style=\"text-align: right;\">\n",
       "      <th></th>\n",
       "      <th>word</th>\n",
       "    </tr>\n",
       "  </thead>\n",
       "  <tbody>\n",
       "    <tr>\n",
       "      <th>0</th>\n",
       "      <td>aalii</td>\n",
       "    </tr>\n",
       "    <tr>\n",
       "      <th>1</th>\n",
       "      <td>Aaron</td>\n",
       "    </tr>\n",
       "    <tr>\n",
       "      <th>2</th>\n",
       "      <td>abaca</td>\n",
       "    </tr>\n",
       "    <tr>\n",
       "      <th>3</th>\n",
       "      <td>aback</td>\n",
       "    </tr>\n",
       "    <tr>\n",
       "      <th>4</th>\n",
       "      <td>abaff</td>\n",
       "    </tr>\n",
       "  </tbody>\n",
       "</table>\n",
       "</div>"
      ],
      "text/plain": [
       "    word\n",
       "0  aalii\n",
       "1  Aaron\n",
       "2  abaca\n",
       "3  aback\n",
       "4  abaff"
      ]
     },
     "execution_count": 5,
     "metadata": {},
     "output_type": "execute_result"
    }
   ],
   "source": [
    "df.head()"
   ]
  },
  {
   "cell_type": "code",
   "execution_count": 6,
   "id": "7e75ec99",
   "metadata": {},
   "outputs": [],
   "source": [
    "# make everything lowercase\n",
    "df['lcase'] = df['word'].str.lower()"
   ]
  },
  {
   "cell_type": "code",
   "execution_count": 7,
   "id": "4872beaa",
   "metadata": {},
   "outputs": [
    {
     "data": {
      "text/html": [
       "<div>\n",
       "<style scoped>\n",
       "    .dataframe tbody tr th:only-of-type {\n",
       "        vertical-align: middle;\n",
       "    }\n",
       "\n",
       "    .dataframe tbody tr th {\n",
       "        vertical-align: top;\n",
       "    }\n",
       "\n",
       "    .dataframe thead th {\n",
       "        text-align: right;\n",
       "    }\n",
       "</style>\n",
       "<table border=\"1\" class=\"dataframe\">\n",
       "  <thead>\n",
       "    <tr style=\"text-align: right;\">\n",
       "      <th></th>\n",
       "      <th>word</th>\n",
       "      <th>lcase</th>\n",
       "    </tr>\n",
       "  </thead>\n",
       "  <tbody>\n",
       "    <tr>\n",
       "      <th>0</th>\n",
       "      <td>aalii</td>\n",
       "      <td>aalii</td>\n",
       "    </tr>\n",
       "    <tr>\n",
       "      <th>1</th>\n",
       "      <td>Aaron</td>\n",
       "      <td>aaron</td>\n",
       "    </tr>\n",
       "    <tr>\n",
       "      <th>2</th>\n",
       "      <td>abaca</td>\n",
       "      <td>abaca</td>\n",
       "    </tr>\n",
       "    <tr>\n",
       "      <th>3</th>\n",
       "      <td>aback</td>\n",
       "      <td>aback</td>\n",
       "    </tr>\n",
       "    <tr>\n",
       "      <th>4</th>\n",
       "      <td>abaff</td>\n",
       "      <td>abaff</td>\n",
       "    </tr>\n",
       "  </tbody>\n",
       "</table>\n",
       "</div>"
      ],
      "text/plain": [
       "    word  lcase\n",
       "0  aalii  aalii\n",
       "1  Aaron  aaron\n",
       "2  abaca  abaca\n",
       "3  aback  aback\n",
       "4  abaff  abaff"
      ]
     },
     "execution_count": 7,
     "metadata": {},
     "output_type": "execute_result"
    }
   ],
   "source": [
    "df.head()"
   ]
  },
  {
   "cell_type": "code",
   "execution_count": 8,
   "id": "ea54df46",
   "metadata": {},
   "outputs": [],
   "source": [
    "# let's sort, and then create an ID\n",
    "df = df.sort_values(by = ['lcase', 'word'])"
   ]
  },
  {
   "cell_type": "code",
   "execution_count": 9,
   "id": "518933ae",
   "metadata": {},
   "outputs": [],
   "source": [
    "df['word_id'] = df.index"
   ]
  },
  {
   "cell_type": "code",
   "execution_count": 10,
   "id": "0a29e525",
   "metadata": {},
   "outputs": [
    {
     "data": {
      "text/html": [
       "<div>\n",
       "<style scoped>\n",
       "    .dataframe tbody tr th:only-of-type {\n",
       "        vertical-align: middle;\n",
       "    }\n",
       "\n",
       "    .dataframe tbody tr th {\n",
       "        vertical-align: top;\n",
       "    }\n",
       "\n",
       "    .dataframe thead th {\n",
       "        text-align: right;\n",
       "    }\n",
       "</style>\n",
       "<table border=\"1\" class=\"dataframe\">\n",
       "  <thead>\n",
       "    <tr style=\"text-align: right;\">\n",
       "      <th></th>\n",
       "      <th>word</th>\n",
       "      <th>lcase</th>\n",
       "      <th>word_id</th>\n",
       "    </tr>\n",
       "  </thead>\n",
       "  <tbody>\n",
       "    <tr>\n",
       "      <th>0</th>\n",
       "      <td>aalii</td>\n",
       "      <td>aalii</td>\n",
       "      <td>0</td>\n",
       "    </tr>\n",
       "    <tr>\n",
       "      <th>1</th>\n",
       "      <td>Aaron</td>\n",
       "      <td>aaron</td>\n",
       "      <td>1</td>\n",
       "    </tr>\n",
       "    <tr>\n",
       "      <th>2</th>\n",
       "      <td>abaca</td>\n",
       "      <td>abaca</td>\n",
       "      <td>2</td>\n",
       "    </tr>\n",
       "    <tr>\n",
       "      <th>3</th>\n",
       "      <td>aback</td>\n",
       "      <td>aback</td>\n",
       "      <td>3</td>\n",
       "    </tr>\n",
       "    <tr>\n",
       "      <th>4</th>\n",
       "      <td>abaff</td>\n",
       "      <td>abaff</td>\n",
       "      <td>4</td>\n",
       "    </tr>\n",
       "  </tbody>\n",
       "</table>\n",
       "</div>"
      ],
      "text/plain": [
       "    word  lcase  word_id\n",
       "0  aalii  aalii        0\n",
       "1  Aaron  aaron        1\n",
       "2  abaca  abaca        2\n",
       "3  aback  aback        3\n",
       "4  abaff  abaff        4"
      ]
     },
     "execution_count": 10,
     "metadata": {},
     "output_type": "execute_result"
    }
   ],
   "source": [
    "df.head()"
   ]
  },
  {
   "cell_type": "code",
   "execution_count": 11,
   "id": "a069f0b5",
   "metadata": {},
   "outputs": [],
   "source": [
    "# now, we need to create a matrix that we will use to \"score\" each word"
   ]
  },
  {
   "cell_type": "code",
   "execution_count": 12,
   "id": "57cb62a5",
   "metadata": {},
   "outputs": [],
   "source": [
    "char_matrix = np.zeros(shape = (len(df), 26))"
   ]
  },
  {
   "cell_type": "code",
   "execution_count": 14,
   "id": "4cb33904",
   "metadata": {},
   "outputs": [],
   "source": [
    "# we will also need a dictionary that tracks the position of each letter\n",
    "letter_dict = {l:p for p, l in enumerate(ascii_lowercase)}"
   ]
  },
  {
   "cell_type": "code",
   "execution_count": 15,
   "id": "8078322e",
   "metadata": {},
   "outputs": [],
   "source": [
    "# now, we need to enumerate each row in the df and populate the matrix\n",
    "# the id of the word corresponds to the word\n",
    "def pop_matrix(row):\n",
    "    curr_index = row['word_id']\n",
    "    curr_word = row['lcase']\n",
    "    for i_cl, cl in enumerate(curr_word):\n",
    "        # use our dicationary\n",
    "        char_matrix[curr_index, letter_dict[cl]] += 1\n",
    "        \n",
    "    return None"
   ]
  },
  {
   "cell_type": "code",
   "execution_count": 16,
   "id": "2dddc1a6",
   "metadata": {},
   "outputs": [],
   "source": [
    "output = df.apply(pop_matrix, 1)"
   ]
  },
  {
   "cell_type": "code",
   "execution_count": 18,
   "id": "ed216b4a",
   "metadata": {},
   "outputs": [
    {
     "data": {
      "text/plain": [
       "array([[2., 0., 0., ..., 0., 0., 0.],\n",
       "       [2., 0., 0., ..., 0., 0., 0.],\n",
       "       [3., 1., 1., ..., 0., 0., 0.],\n",
       "       ...,\n",
       "       [0., 0., 0., ..., 0., 1., 1.],\n",
       "       [0., 0., 1., ..., 0., 1., 1.],\n",
       "       [0., 0., 0., ..., 0., 1., 1.]])"
      ]
     },
     "execution_count": 18,
     "metadata": {},
     "output_type": "execute_result"
    }
   ],
   "source": [
    "char_matrix"
   ]
  },
  {
   "cell_type": "code",
   "execution_count": 19,
   "id": "73de9695",
   "metadata": {},
   "outputs": [],
   "source": [
    "# row sum to check!\n",
    "rs_check = char_matrix.sum(1)"
   ]
  },
  {
   "cell_type": "code",
   "execution_count": 25,
   "id": "5bc62654",
   "metadata": {},
   "outputs": [],
   "source": [
    "# okay! now... figure out how many words have each letter?\n",
    "# do a sum\n",
    "letter_count = char_matrix.sum(0)"
   ]
  },
  {
   "cell_type": "code",
   "execution_count": 26,
   "id": "a3b5169e",
   "metadata": {},
   "outputs": [
    {
     "data": {
      "text/plain": [
       "(26,)"
      ]
     },
     "execution_count": 26,
     "metadata": {},
     "output_type": "execute_result"
    }
   ],
   "source": [
    "# should be 26!\n",
    "letter_count.shape"
   ]
  },
  {
   "cell_type": "code",
   "execution_count": 28,
   "id": "a4375b5e",
   "metadata": {},
   "outputs": [
    {
     "data": {
      "text/plain": [
       "array([11.28559968,  2.67950261,  3.59406338,  3.28920979,  9.62896109,\n",
       "        1.45206578,  2.52908143,  3.10870437,  6.49418371,  0.46730846,\n",
       "        2.15403129,  5.45326915,  3.16887284,  5.39711191,  6.4921781 ,\n",
       "        2.9081428 ,  0.19655034,  6.93943041,  5.64380265,  5.33894906,\n",
       "        4.540714  ,  1.08503811,  1.48415564,  0.46730846,  3.58804653,\n",
       "        0.61371841])"
      ]
     },
     "execution_count": 28,
     "metadata": {},
     "output_type": "execute_result"
    }
   ],
   "source": [
    "(letter_count / letter_count.sum()) * 100"
   ]
  },
  {
   "cell_type": "code",
   "execution_count": 29,
   "id": "938efe40",
   "metadata": {},
   "outputs": [],
   "source": [
    "# put each one of these value in a dictionary\n",
    "letter_rank_dict = {l:lr for l, lr in zip(ascii_lowercase, letter_count)}"
   ]
  },
  {
   "cell_type": "code",
   "execution_count": 30,
   "id": "495b51eb",
   "metadata": {},
   "outputs": [
    {
     "data": {
      "text/plain": [
       "{'a': 5627.0,\n",
       " 'b': 1336.0,\n",
       " 'c': 1792.0,\n",
       " 'd': 1640.0,\n",
       " 'e': 4801.0,\n",
       " 'f': 724.0,\n",
       " 'g': 1261.0,\n",
       " 'h': 1550.0,\n",
       " 'i': 3238.0,\n",
       " 'j': 233.0,\n",
       " 'k': 1074.0,\n",
       " 'l': 2719.0,\n",
       " 'm': 1580.0,\n",
       " 'n': 2691.0,\n",
       " 'o': 3237.0,\n",
       " 'p': 1450.0,\n",
       " 'q': 98.0,\n",
       " 'r': 3460.0,\n",
       " 's': 2814.0,\n",
       " 't': 2662.0,\n",
       " 'u': 2264.0,\n",
       " 'v': 541.0,\n",
       " 'w': 740.0,\n",
       " 'x': 233.0,\n",
       " 'y': 1789.0,\n",
       " 'z': 306.0}"
      ]
     },
     "execution_count": 30,
     "metadata": {},
     "output_type": "execute_result"
    }
   ],
   "source": [
    "letter_rank_dict"
   ]
  },
  {
   "cell_type": "code",
   "execution_count": 33,
   "id": "c1f9f5b4",
   "metadata": {},
   "outputs": [],
   "source": [
    "# now, score each word\n",
    "df['n_unique_chars'] = df['lcase'].map(lambda x: len(set(x)))"
   ]
  },
  {
   "cell_type": "code",
   "execution_count": 42,
   "id": "d17b4d03",
   "metadata": {},
   "outputs": [],
   "source": [
    "# now, add each letter.\n",
    "def sum_letters(x):\n",
    "    curr_score = 0\n",
    "    for l in x:\n",
    "        curr_score += letter_rank_dict[l]\n",
    "    \n",
    "    return curr_score"
   ]
  },
  {
   "cell_type": "code",
   "execution_count": 43,
   "id": "f98b3186",
   "metadata": {},
   "outputs": [],
   "source": [
    "df['word_score'] = df['lcase'].map(sum_letters)"
   ]
  },
  {
   "cell_type": "code",
   "execution_count": 44,
   "id": "184f81a8",
   "metadata": {},
   "outputs": [
    {
     "data": {
      "text/html": [
       "<div>\n",
       "<style scoped>\n",
       "    .dataframe tbody tr th:only-of-type {\n",
       "        vertical-align: middle;\n",
       "    }\n",
       "\n",
       "    .dataframe tbody tr th {\n",
       "        vertical-align: top;\n",
       "    }\n",
       "\n",
       "    .dataframe thead th {\n",
       "        text-align: right;\n",
       "    }\n",
       "</style>\n",
       "<table border=\"1\" class=\"dataframe\">\n",
       "  <thead>\n",
       "    <tr style=\"text-align: right;\">\n",
       "      <th></th>\n",
       "      <th>word</th>\n",
       "      <th>lcase</th>\n",
       "      <th>word_id</th>\n",
       "      <th>n_unique_chars</th>\n",
       "      <th>word_score</th>\n",
       "    </tr>\n",
       "  </thead>\n",
       "  <tbody>\n",
       "    <tr>\n",
       "      <th>0</th>\n",
       "      <td>aalii</td>\n",
       "      <td>aalii</td>\n",
       "      <td>0</td>\n",
       "      <td>3</td>\n",
       "      <td>20449.0</td>\n",
       "    </tr>\n",
       "    <tr>\n",
       "      <th>1</th>\n",
       "      <td>Aaron</td>\n",
       "      <td>aaron</td>\n",
       "      <td>1</td>\n",
       "      <td>4</td>\n",
       "      <td>20642.0</td>\n",
       "    </tr>\n",
       "    <tr>\n",
       "      <th>2</th>\n",
       "      <td>abaca</td>\n",
       "      <td>abaca</td>\n",
       "      <td>2</td>\n",
       "      <td>3</td>\n",
       "      <td>20009.0</td>\n",
       "    </tr>\n",
       "    <tr>\n",
       "      <th>3</th>\n",
       "      <td>aback</td>\n",
       "      <td>aback</td>\n",
       "      <td>3</td>\n",
       "      <td>4</td>\n",
       "      <td>15456.0</td>\n",
       "    </tr>\n",
       "    <tr>\n",
       "      <th>4</th>\n",
       "      <td>abaff</td>\n",
       "      <td>abaff</td>\n",
       "      <td>4</td>\n",
       "      <td>3</td>\n",
       "      <td>14038.0</td>\n",
       "    </tr>\n",
       "  </tbody>\n",
       "</table>\n",
       "</div>"
      ],
      "text/plain": [
       "    word  lcase  word_id  n_unique_chars  word_score\n",
       "0  aalii  aalii        0               3     20449.0\n",
       "1  Aaron  aaron        1               4     20642.0\n",
       "2  abaca  abaca        2               3     20009.0\n",
       "3  aback  aback        3               4     15456.0\n",
       "4  abaff  abaff        4               3     14038.0"
      ]
     },
     "execution_count": 44,
     "metadata": {},
     "output_type": "execute_result"
    }
   ],
   "source": [
    "df.head()"
   ]
  },
  {
   "cell_type": "code",
   "execution_count": 48,
   "id": "8db7b80c",
   "metadata": {},
   "outputs": [],
   "source": [
    "# now, sort\n",
    "wdf = df.sort_values(by = ['n_unique_chars', 'word_score'], ascending = False)"
   ]
  },
  {
   "cell_type": "code",
   "execution_count": 49,
   "id": "10825dbb",
   "metadata": {},
   "outputs": [
    {
     "data": {
      "text/html": [
       "<div>\n",
       "<style scoped>\n",
       "    .dataframe tbody tr th:only-of-type {\n",
       "        vertical-align: middle;\n",
       "    }\n",
       "\n",
       "    .dataframe tbody tr th {\n",
       "        vertical-align: top;\n",
       "    }\n",
       "\n",
       "    .dataframe thead th {\n",
       "        text-align: right;\n",
       "    }\n",
       "</style>\n",
       "<table border=\"1\" class=\"dataframe\">\n",
       "  <thead>\n",
       "    <tr style=\"text-align: right;\">\n",
       "      <th></th>\n",
       "      <th>word</th>\n",
       "      <th>lcase</th>\n",
       "      <th>word_id</th>\n",
       "      <th>n_unique_chars</th>\n",
       "      <th>word_score</th>\n",
       "    </tr>\n",
       "  </thead>\n",
       "  <tbody>\n",
       "    <tr>\n",
       "      <th>568</th>\n",
       "      <td>Aries</td>\n",
       "      <td>aries</td>\n",
       "      <td>568</td>\n",
       "      <td>5</td>\n",
       "      <td>19940.0</td>\n",
       "    </tr>\n",
       "    <tr>\n",
       "      <th>572</th>\n",
       "      <td>arise</td>\n",
       "      <td>arise</td>\n",
       "      <td>572</td>\n",
       "      <td>5</td>\n",
       "      <td>19940.0</td>\n",
       "    </tr>\n",
       "    <tr>\n",
       "      <th>6726</th>\n",
       "      <td>raise</td>\n",
       "      <td>raise</td>\n",
       "      <td>6726</td>\n",
       "      <td>5</td>\n",
       "      <td>19940.0</td>\n",
       "    </tr>\n",
       "    <tr>\n",
       "      <th>7430</th>\n",
       "      <td>serai</td>\n",
       "      <td>serai</td>\n",
       "      <td>7430</td>\n",
       "      <td>5</td>\n",
       "      <td>19940.0</td>\n",
       "    </tr>\n",
       "    <tr>\n",
       "      <th>592</th>\n",
       "      <td>arose</td>\n",
       "      <td>arose</td>\n",
       "      <td>592</td>\n",
       "      <td>5</td>\n",
       "      <td>19939.0</td>\n",
       "    </tr>\n",
       "  </tbody>\n",
       "</table>\n",
       "</div>"
      ],
      "text/plain": [
       "       word  lcase  word_id  n_unique_chars  word_score\n",
       "568   Aries  aries      568               5     19940.0\n",
       "572   arise  arise      572               5     19940.0\n",
       "6726  raise  raise     6726               5     19940.0\n",
       "7430  serai  serai     7430               5     19940.0\n",
       "592   arose  arose      592               5     19939.0"
      ]
     },
     "execution_count": 49,
     "metadata": {},
     "output_type": "execute_result"
    }
   ],
   "source": [
    "wdf.head()"
   ]
  },
  {
   "cell_type": "code",
   "execution_count": null,
   "id": "cb80e3be",
   "metadata": {},
   "outputs": [],
   "source": [
    "# aries, arise, raise, and serai are the best words to start with"
   ]
  },
  {
   "cell_type": "code",
   "execution_count": null,
   "id": "91b5a59a",
   "metadata": {},
   "outputs": [],
   "source": [
    "# save this stuff\n",
    "# the df, the letter dictionary, the char_matrix, and the letter_dict_Rank"
   ]
  },
  {
   "cell_type": "code",
   "execution_count": 70,
   "id": "43557874",
   "metadata": {},
   "outputs": [],
   "source": [
    "df.to_pickle(path = 'word_df.pkl')"
   ]
  },
  {
   "cell_type": "code",
   "execution_count": 72,
   "id": "0d5195ac",
   "metadata": {},
   "outputs": [],
   "source": [
    "with open('letter_dict.pkl', 'wb') as handle:\n",
    "    pickle.dump(letter_dict, handle, protocol=pickle.HIGHEST_PROTOCOL)"
   ]
  },
  {
   "cell_type": "code",
   "execution_count": 73,
   "id": "dbe9ba3d",
   "metadata": {},
   "outputs": [],
   "source": [
    "with open('char_matrix.pkl', 'wb') as handle:\n",
    "    pickle.dump(char_matrix, handle, protocol=pickle.HIGHEST_PROTOCOL)"
   ]
  },
  {
   "cell_type": "code",
   "execution_count": 74,
   "id": "9ab055ec",
   "metadata": {},
   "outputs": [],
   "source": [
    "with open('letter_rank_dict.pkl', 'wb') as handle:\n",
    "    pickle.dump(letter_rank_dict, handle, protocol=pickle.HIGHEST_PROTOCOL)"
   ]
  },
  {
   "cell_type": "code",
   "execution_count": null,
   "id": "d899c2bf",
   "metadata": {},
   "outputs": [],
   "source": []
  },
  {
   "cell_type": "code",
   "execution_count": null,
   "id": "4541696d",
   "metadata": {},
   "outputs": [],
   "source": []
  },
  {
   "cell_type": "code",
   "execution_count": null,
   "id": "abddf82c",
   "metadata": {},
   "outputs": [],
   "source": []
  },
  {
   "cell_type": "code",
   "execution_count": 50,
   "id": "8ac0d4b4",
   "metadata": {},
   "outputs": [],
   "source": [
    "# now, let's try this another way: count the letters in each position\n",
    "letter_matrix = np.zeros(shape = (26, 5))"
   ]
  },
  {
   "cell_type": "code",
   "execution_count": null,
   "id": "59e9d761",
   "metadata": {},
   "outputs": [],
   "source": []
  },
  {
   "cell_type": "code",
   "execution_count": null,
   "id": "0f37502d",
   "metadata": {},
   "outputs": [],
   "source": []
  },
  {
   "cell_type": "code",
   "execution_count": null,
   "id": "ab73d6c2",
   "metadata": {},
   "outputs": [],
   "source": []
  },
  {
   "cell_type": "code",
   "execution_count": null,
   "id": "86ec2a4a",
   "metadata": {},
   "outputs": [],
   "source": []
  },
  {
   "cell_type": "code",
   "execution_count": 54,
   "id": "da7aa108",
   "metadata": {},
   "outputs": [],
   "source": [
    "def pop_letter_matrix(x):\n",
    "    \n",
    "    for i_ll, ll in enumerate(x):\n",
    "        # row, then columns\n",
    "        letter_matrix[letter_dict[ll], i_ll] += 1\n",
    "        \n",
    "    return None  "
   ]
  },
  {
   "cell_type": "code",
   "execution_count": 56,
   "id": "41c8fc19",
   "metadata": {},
   "outputs": [],
   "source": [
    "output = df['lcase'].map(pop_letter_matrix)"
   ]
  },
  {
   "cell_type": "code",
   "execution_count": 59,
   "id": "4d4563bd",
   "metadata": {},
   "outputs": [
    {
     "data": {
      "text/plain": [
       "(26, 5)"
      ]
     },
     "execution_count": 59,
     "metadata": {},
     "output_type": "execute_result"
    }
   ],
   "source": [
    "letter_matrix.shape"
   ]
  },
  {
   "cell_type": "code",
   "execution_count": 67,
   "id": "53ad0b4c",
   "metadata": {},
   "outputs": [],
   "source": [
    "# now, we use the which max to find the index of the most common letter\n",
    "# this will tell us highest ranked position of each letter across all letters\n",
    "output = np.argmax(a = letter_matrix, axis = 1)"
   ]
  },
  {
   "cell_type": "code",
   "execution_count": 68,
   "id": "52cfb659",
   "metadata": {},
   "outputs": [
    {
     "data": {
      "text/plain": [
       "array([1, 0, 0, 4, 4, 0, 0, 1, 1, 0, 4, 2, 0, 2, 1, 0, 0, 2, 0, 4, 1, 2,\n",
       "       0, 4, 4, 3], dtype=int64)"
      ]
     },
     "execution_count": 68,
     "metadata": {},
     "output_type": "execute_result"
    }
   ],
   "source": [
    "output"
   ]
  },
  {
   "cell_type": "code",
   "execution_count": null,
   "id": "bfb07a14",
   "metadata": {},
   "outputs": [],
   "source": []
  },
  {
   "cell_type": "code",
   "execution_count": null,
   "id": "293935a1",
   "metadata": {},
   "outputs": [],
   "source": []
  },
  {
   "cell_type": "code",
   "execution_count": null,
   "id": "17c3476e",
   "metadata": {},
   "outputs": [],
   "source": []
  },
  {
   "cell_type": "code",
   "execution_count": 69,
   "id": "c006ab7e",
   "metadata": {},
   "outputs": [
    {
     "ename": "AttributeError",
     "evalue": "'numpy.ndarray' object has no attribute 'head'",
     "output_type": "error",
     "traceback": [
      "\u001b[1;31m---------------------------------------------------------------------------\u001b[0m",
      "\u001b[1;31mAttributeError\u001b[0m                            Traceback (most recent call last)",
      "Input \u001b[1;32mIn [69]\u001b[0m, in \u001b[0;36m<module>\u001b[1;34m\u001b[0m\n\u001b[1;32m----> 1\u001b[0m \u001b[43moutput\u001b[49m\u001b[38;5;241;43m.\u001b[39;49m\u001b[43mhead\u001b[49m\n",
      "\u001b[1;31mAttributeError\u001b[0m: 'numpy.ndarray' object has no attribute 'head'"
     ]
    }
   ],
   "source": []
  }
 ],
 "metadata": {
  "kernelspec": {
   "display_name": "Python 3 (ipykernel)",
   "language": "python",
   "name": "python3"
  },
  "language_info": {
   "codemirror_mode": {
    "name": "ipython",
    "version": 3
   },
   "file_extension": ".py",
   "mimetype": "text/x-python",
   "name": "python",
   "nbconvert_exporter": "python",
   "pygments_lexer": "ipython3",
   "version": "3.8.12"
  }
 },
 "nbformat": 4,
 "nbformat_minor": 5
}
