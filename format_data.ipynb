{
 "cells": [
  {
   "cell_type": "code",
   "execution_count": 1,
   "id": "c680b13b",
   "metadata": {},
   "outputs": [],
   "source": [
    "# mike babb\n",
    "# 2022 03 03\n",
    "# import and format data"
   ]
  },
  {
   "cell_type": "code",
   "execution_count": 2,
   "id": "53308855",
   "metadata": {},
   "outputs": [],
   "source": [
    "# standard\n",
    "import pickle\n",
    "import os\n",
    "from string import ascii_lowercase"
   ]
  },
  {
   "cell_type": "code",
   "execution_count": 3,
   "id": "7d8bac27",
   "metadata": {},
   "outputs": [],
   "source": [
    "# external\n",
    "import matplotlib.pyplot as plt\n",
    "import numpy as np\n",
    "import pandas as pd\n"
   ]
  },
  {
   "cell_type": "code",
   "execution_count": 4,
   "id": "6236b26d-a200-449c-b7cd-109cad47c0be",
   "metadata": {},
   "outputs": [],
   "source": [
    "vowels = ['a','e', 'i', 'o', 'u', 'y']"
   ]
  },
  {
   "cell_type": "code",
   "execution_count": 5,
   "id": "f9f53c77",
   "metadata": {},
   "outputs": [],
   "source": [
    "# import the data\n",
    "df = pd.read_csv(filepath_or_buffer='words5.csv', header = None, names = ['word'])"
   ]
  },
  {
   "cell_type": "code",
   "execution_count": 6,
   "id": "20ff3554",
   "metadata": {},
   "outputs": [
    {
     "data": {
      "text/html": [
       "<div>\n",
       "<style scoped>\n",
       "    .dataframe tbody tr th:only-of-type {\n",
       "        vertical-align: middle;\n",
       "    }\n",
       "\n",
       "    .dataframe tbody tr th {\n",
       "        vertical-align: top;\n",
       "    }\n",
       "\n",
       "    .dataframe thead th {\n",
       "        text-align: right;\n",
       "    }\n",
       "</style>\n",
       "<table border=\"1\" class=\"dataframe\">\n",
       "  <thead>\n",
       "    <tr style=\"text-align: right;\">\n",
       "      <th></th>\n",
       "      <th>word</th>\n",
       "    </tr>\n",
       "  </thead>\n",
       "  <tbody>\n",
       "    <tr>\n",
       "      <th>0</th>\n",
       "      <td>aalii</td>\n",
       "    </tr>\n",
       "    <tr>\n",
       "      <th>1</th>\n",
       "      <td>Aaron</td>\n",
       "    </tr>\n",
       "    <tr>\n",
       "      <th>2</th>\n",
       "      <td>abaca</td>\n",
       "    </tr>\n",
       "    <tr>\n",
       "      <th>3</th>\n",
       "      <td>aback</td>\n",
       "    </tr>\n",
       "    <tr>\n",
       "      <th>4</th>\n",
       "      <td>abaff</td>\n",
       "    </tr>\n",
       "  </tbody>\n",
       "</table>\n",
       "</div>"
      ],
      "text/plain": [
       "    word\n",
       "0  aalii\n",
       "1  Aaron\n",
       "2  abaca\n",
       "3  aback\n",
       "4  abaff"
      ]
     },
     "execution_count": 6,
     "metadata": {},
     "output_type": "execute_result"
    }
   ],
   "source": [
    "df.head()"
   ]
  },
  {
   "cell_type": "code",
   "execution_count": 7,
   "id": "7e75ec99",
   "metadata": {},
   "outputs": [],
   "source": [
    "# make everything lowercase\n",
    "df['lcase'] = df['word'].str.lower()"
   ]
  },
  {
   "cell_type": "code",
   "execution_count": 8,
   "id": "4872beaa",
   "metadata": {},
   "outputs": [
    {
     "data": {
      "text/html": [
       "<div>\n",
       "<style scoped>\n",
       "    .dataframe tbody tr th:only-of-type {\n",
       "        vertical-align: middle;\n",
       "    }\n",
       "\n",
       "    .dataframe tbody tr th {\n",
       "        vertical-align: top;\n",
       "    }\n",
       "\n",
       "    .dataframe thead th {\n",
       "        text-align: right;\n",
       "    }\n",
       "</style>\n",
       "<table border=\"1\" class=\"dataframe\">\n",
       "  <thead>\n",
       "    <tr style=\"text-align: right;\">\n",
       "      <th></th>\n",
       "      <th>word</th>\n",
       "      <th>lcase</th>\n",
       "    </tr>\n",
       "  </thead>\n",
       "  <tbody>\n",
       "    <tr>\n",
       "      <th>0</th>\n",
       "      <td>aalii</td>\n",
       "      <td>aalii</td>\n",
       "    </tr>\n",
       "    <tr>\n",
       "      <th>1</th>\n",
       "      <td>Aaron</td>\n",
       "      <td>aaron</td>\n",
       "    </tr>\n",
       "    <tr>\n",
       "      <th>2</th>\n",
       "      <td>abaca</td>\n",
       "      <td>abaca</td>\n",
       "    </tr>\n",
       "    <tr>\n",
       "      <th>3</th>\n",
       "      <td>aback</td>\n",
       "      <td>aback</td>\n",
       "    </tr>\n",
       "    <tr>\n",
       "      <th>4</th>\n",
       "      <td>abaff</td>\n",
       "      <td>abaff</td>\n",
       "    </tr>\n",
       "  </tbody>\n",
       "</table>\n",
       "</div>"
      ],
      "text/plain": [
       "    word  lcase\n",
       "0  aalii  aalii\n",
       "1  Aaron  aaron\n",
       "2  abaca  abaca\n",
       "3  aback  aback\n",
       "4  abaff  abaff"
      ]
     },
     "execution_count": 8,
     "metadata": {},
     "output_type": "execute_result"
    }
   ],
   "source": [
    "df.head()"
   ]
  },
  {
   "cell_type": "code",
   "execution_count": 9,
   "id": "ea54df46",
   "metadata": {},
   "outputs": [],
   "source": [
    "# let's sort, and then create an ID\n",
    "df = df.sort_values(by = ['lcase', 'word'])"
   ]
  },
  {
   "cell_type": "code",
   "execution_count": 10,
   "id": "518933ae",
   "metadata": {},
   "outputs": [],
   "source": [
    "df['word_id'] = df.index"
   ]
  },
  {
   "cell_type": "code",
   "execution_count": 11,
   "id": "0a29e525",
   "metadata": {},
   "outputs": [
    {
     "data": {
      "text/html": [
       "<div>\n",
       "<style scoped>\n",
       "    .dataframe tbody tr th:only-of-type {\n",
       "        vertical-align: middle;\n",
       "    }\n",
       "\n",
       "    .dataframe tbody tr th {\n",
       "        vertical-align: top;\n",
       "    }\n",
       "\n",
       "    .dataframe thead th {\n",
       "        text-align: right;\n",
       "    }\n",
       "</style>\n",
       "<table border=\"1\" class=\"dataframe\">\n",
       "  <thead>\n",
       "    <tr style=\"text-align: right;\">\n",
       "      <th></th>\n",
       "      <th>word</th>\n",
       "      <th>lcase</th>\n",
       "      <th>word_id</th>\n",
       "    </tr>\n",
       "  </thead>\n",
       "  <tbody>\n",
       "    <tr>\n",
       "      <th>0</th>\n",
       "      <td>aalii</td>\n",
       "      <td>aalii</td>\n",
       "      <td>0</td>\n",
       "    </tr>\n",
       "    <tr>\n",
       "      <th>1</th>\n",
       "      <td>Aaron</td>\n",
       "      <td>aaron</td>\n",
       "      <td>1</td>\n",
       "    </tr>\n",
       "    <tr>\n",
       "      <th>2</th>\n",
       "      <td>abaca</td>\n",
       "      <td>abaca</td>\n",
       "      <td>2</td>\n",
       "    </tr>\n",
       "    <tr>\n",
       "      <th>3</th>\n",
       "      <td>aback</td>\n",
       "      <td>aback</td>\n",
       "      <td>3</td>\n",
       "    </tr>\n",
       "    <tr>\n",
       "      <th>4</th>\n",
       "      <td>abaff</td>\n",
       "      <td>abaff</td>\n",
       "      <td>4</td>\n",
       "    </tr>\n",
       "  </tbody>\n",
       "</table>\n",
       "</div>"
      ],
      "text/plain": [
       "    word  lcase  word_id\n",
       "0  aalii  aalii        0\n",
       "1  Aaron  aaron        1\n",
       "2  abaca  abaca        2\n",
       "3  aback  aback        3\n",
       "4  abaff  abaff        4"
      ]
     },
     "execution_count": 11,
     "metadata": {},
     "output_type": "execute_result"
    }
   ],
   "source": [
    "df.head()"
   ]
  },
  {
   "cell_type": "code",
   "execution_count": 12,
   "id": "a069f0b5",
   "metadata": {},
   "outputs": [],
   "source": [
    "# now, we need to create a matrix that we will use to \"score\" each word"
   ]
  },
  {
   "cell_type": "code",
   "execution_count": 13,
   "id": "6cccf9b4",
   "metadata": {},
   "outputs": [
    {
     "data": {
      "text/plain": [
       "(9972, 3)"
      ]
     },
     "execution_count": 13,
     "metadata": {},
     "output_type": "execute_result"
    }
   ],
   "source": [
    "df.shape"
   ]
  },
  {
   "cell_type": "code",
   "execution_count": 14,
   "id": "57cb62a5",
   "metadata": {},
   "outputs": [],
   "source": [
    "char_matrix = np.zeros(shape = (len(df), 26))"
   ]
  },
  {
   "cell_type": "code",
   "execution_count": 15,
   "id": "4cb33904",
   "metadata": {},
   "outputs": [],
   "source": [
    "# we will also need a dictionary that tracks the position of each letter\n",
    "letter_dict = {l:p for p, l in enumerate(ascii_lowercase)}"
   ]
  },
  {
   "cell_type": "code",
   "execution_count": 16,
   "id": "8078322e",
   "metadata": {},
   "outputs": [],
   "source": [
    "# now, we need to enumerate each row in the df and populate the matrix\n",
    "# the id of the word corresponds to the word\n",
    "def pop_matrix(row):\n",
    "    curr_index = row['word_id']\n",
    "    curr_word = row['lcase']\n",
    "    for i_cl, cl in enumerate(curr_word):\n",
    "        # use our dicationary\n",
    "        char_matrix[curr_index, letter_dict[cl]] += 1\n",
    "        \n",
    "    return None"
   ]
  },
  {
   "cell_type": "code",
   "execution_count": 17,
   "id": "2dddc1a6",
   "metadata": {},
   "outputs": [],
   "source": [
    "output = df.apply(pop_matrix, 1)"
   ]
  },
  {
   "cell_type": "code",
   "execution_count": 18,
   "id": "ed216b4a",
   "metadata": {},
   "outputs": [
    {
     "data": {
      "text/plain": [
       "array([[2., 0., 0., ..., 0., 0., 0.],\n",
       "       [2., 0., 0., ..., 0., 0., 0.],\n",
       "       [3., 1., 1., ..., 0., 0., 0.],\n",
       "       ...,\n",
       "       [0., 0., 0., ..., 0., 1., 1.],\n",
       "       [0., 0., 1., ..., 0., 1., 1.],\n",
       "       [0., 0., 0., ..., 0., 1., 1.]])"
      ]
     },
     "execution_count": 18,
     "metadata": {},
     "output_type": "execute_result"
    }
   ],
   "source": [
    "char_matrix"
   ]
  },
  {
   "cell_type": "code",
   "execution_count": 19,
   "id": "73de9695",
   "metadata": {},
   "outputs": [],
   "source": [
    "# row sum to check!\n",
    "rs_check = char_matrix.sum(1)"
   ]
  },
  {
   "cell_type": "code",
   "execution_count": 20,
   "id": "5bc62654",
   "metadata": {},
   "outputs": [],
   "source": [
    "# okay! now... figure out how many words have each letter?\n",
    "# do a sum\n",
    "letter_count = char_matrix.sum(0)"
   ]
  },
  {
   "cell_type": "code",
   "execution_count": 21,
   "id": "a3b5169e",
   "metadata": {},
   "outputs": [
    {
     "data": {
      "text/plain": [
       "(26,)"
      ]
     },
     "execution_count": 21,
     "metadata": {},
     "output_type": "execute_result"
    }
   ],
   "source": [
    "# should be 26!\n",
    "letter_count.shape"
   ]
  },
  {
   "cell_type": "code",
   "execution_count": 22,
   "id": "a4375b5e",
   "metadata": {},
   "outputs": [
    {
     "data": {
      "text/plain": [
       "array([11.28559968,  2.67950261,  3.59406338,  3.28920979,  9.62896109,\n",
       "        1.45206578,  2.52908143,  3.10870437,  6.49418371,  0.46730846,\n",
       "        2.15403129,  5.45326915,  3.16887284,  5.39711191,  6.4921781 ,\n",
       "        2.9081428 ,  0.19655034,  6.93943041,  5.64380265,  5.33894906,\n",
       "        4.540714  ,  1.08503811,  1.48415564,  0.46730846,  3.58804653,\n",
       "        0.61371841])"
      ]
     },
     "execution_count": 22,
     "metadata": {},
     "output_type": "execute_result"
    }
   ],
   "source": [
    "(letter_count / letter_count.sum()) * 100"
   ]
  },
  {
   "cell_type": "code",
   "execution_count": 23,
   "id": "938efe40",
   "metadata": {},
   "outputs": [],
   "source": [
    "# put each one of these value in a dictionary\n",
    "letter_rank_dict = {l:lr for l, lr in zip(ascii_lowercase, letter_count)}"
   ]
  },
  {
   "cell_type": "code",
   "execution_count": 24,
   "id": "495b51eb",
   "metadata": {},
   "outputs": [
    {
     "data": {
      "text/plain": [
       "{'a': 5627.0,\n",
       " 'b': 1336.0,\n",
       " 'c': 1792.0,\n",
       " 'd': 1640.0,\n",
       " 'e': 4801.0,\n",
       " 'f': 724.0,\n",
       " 'g': 1261.0,\n",
       " 'h': 1550.0,\n",
       " 'i': 3238.0,\n",
       " 'j': 233.0,\n",
       " 'k': 1074.0,\n",
       " 'l': 2719.0,\n",
       " 'm': 1580.0,\n",
       " 'n': 2691.0,\n",
       " 'o': 3237.0,\n",
       " 'p': 1450.0,\n",
       " 'q': 98.0,\n",
       " 'r': 3460.0,\n",
       " 's': 2814.0,\n",
       " 't': 2662.0,\n",
       " 'u': 2264.0,\n",
       " 'v': 541.0,\n",
       " 'w': 740.0,\n",
       " 'x': 233.0,\n",
       " 'y': 1789.0,\n",
       " 'z': 306.0}"
      ]
     },
     "execution_count": 24,
     "metadata": {},
     "output_type": "execute_result"
    }
   ],
   "source": [
    "letter_rank_dict"
   ]
  },
  {
   "cell_type": "code",
   "execution_count": 25,
   "id": "0eee7887",
   "metadata": {},
   "outputs": [],
   "source": [
    "letter_rank_df = pd.DataFrame.from_dict(data = letter_rank_dict, orient = 'index', \n",
    "                                       columns = ['score']).reset_index()"
   ]
  },
  {
   "cell_type": "code",
   "execution_count": 26,
   "id": "04a4aade",
   "metadata": {},
   "outputs": [
    {
     "data": {
      "text/html": [
       "<div>\n",
       "<style scoped>\n",
       "    .dataframe tbody tr th:only-of-type {\n",
       "        vertical-align: middle;\n",
       "    }\n",
       "\n",
       "    .dataframe tbody tr th {\n",
       "        vertical-align: top;\n",
       "    }\n",
       "\n",
       "    .dataframe thead th {\n",
       "        text-align: right;\n",
       "    }\n",
       "</style>\n",
       "<table border=\"1\" class=\"dataframe\">\n",
       "  <thead>\n",
       "    <tr style=\"text-align: right;\">\n",
       "      <th></th>\n",
       "      <th>index</th>\n",
       "      <th>score</th>\n",
       "    </tr>\n",
       "  </thead>\n",
       "  <tbody>\n",
       "    <tr>\n",
       "      <th>0</th>\n",
       "      <td>a</td>\n",
       "      <td>5627.0</td>\n",
       "    </tr>\n",
       "    <tr>\n",
       "      <th>1</th>\n",
       "      <td>b</td>\n",
       "      <td>1336.0</td>\n",
       "    </tr>\n",
       "    <tr>\n",
       "      <th>2</th>\n",
       "      <td>c</td>\n",
       "      <td>1792.0</td>\n",
       "    </tr>\n",
       "    <tr>\n",
       "      <th>3</th>\n",
       "      <td>d</td>\n",
       "      <td>1640.0</td>\n",
       "    </tr>\n",
       "    <tr>\n",
       "      <th>4</th>\n",
       "      <td>e</td>\n",
       "      <td>4801.0</td>\n",
       "    </tr>\n",
       "  </tbody>\n",
       "</table>\n",
       "</div>"
      ],
      "text/plain": [
       "  index   score\n",
       "0     a  5627.0\n",
       "1     b  1336.0\n",
       "2     c  1792.0\n",
       "3     d  1640.0\n",
       "4     e  4801.0"
      ]
     },
     "execution_count": 26,
     "metadata": {},
     "output_type": "execute_result"
    }
   ],
   "source": [
    "letter_rank_df.head()"
   ]
  },
  {
   "cell_type": "code",
   "execution_count": 27,
   "id": "a3dc393d",
   "metadata": {},
   "outputs": [],
   "source": [
    "letter_rank_df.columns = ['letter', 'score']"
   ]
  },
  {
   "cell_type": "code",
   "execution_count": 28,
   "id": "adaa20c7",
   "metadata": {},
   "outputs": [],
   "source": [
    "letter_rank_df['score_percent'] = letter_rank_df['score']* 100 / letter_rank_df['score'].sum()"
   ]
  },
  {
   "cell_type": "code",
   "execution_count": 29,
   "id": "e79e72d4",
   "metadata": {},
   "outputs": [
    {
     "data": {
      "text/html": [
       "<div>\n",
       "<style scoped>\n",
       "    .dataframe tbody tr th:only-of-type {\n",
       "        vertical-align: middle;\n",
       "    }\n",
       "\n",
       "    .dataframe tbody tr th {\n",
       "        vertical-align: top;\n",
       "    }\n",
       "\n",
       "    .dataframe thead th {\n",
       "        text-align: right;\n",
       "    }\n",
       "</style>\n",
       "<table border=\"1\" class=\"dataframe\">\n",
       "  <thead>\n",
       "    <tr style=\"text-align: right;\">\n",
       "      <th></th>\n",
       "      <th>letter</th>\n",
       "      <th>score</th>\n",
       "      <th>score_percent</th>\n",
       "    </tr>\n",
       "  </thead>\n",
       "  <tbody>\n",
       "    <tr>\n",
       "      <th>0</th>\n",
       "      <td>a</td>\n",
       "      <td>5627.0</td>\n",
       "      <td>11.285600</td>\n",
       "    </tr>\n",
       "    <tr>\n",
       "      <th>1</th>\n",
       "      <td>b</td>\n",
       "      <td>1336.0</td>\n",
       "      <td>2.679503</td>\n",
       "    </tr>\n",
       "    <tr>\n",
       "      <th>2</th>\n",
       "      <td>c</td>\n",
       "      <td>1792.0</td>\n",
       "      <td>3.594063</td>\n",
       "    </tr>\n",
       "    <tr>\n",
       "      <th>3</th>\n",
       "      <td>d</td>\n",
       "      <td>1640.0</td>\n",
       "      <td>3.289210</td>\n",
       "    </tr>\n",
       "    <tr>\n",
       "      <th>4</th>\n",
       "      <td>e</td>\n",
       "      <td>4801.0</td>\n",
       "      <td>9.628961</td>\n",
       "    </tr>\n",
       "  </tbody>\n",
       "</table>\n",
       "</div>"
      ],
      "text/plain": [
       "  letter   score  score_percent\n",
       "0      a  5627.0      11.285600\n",
       "1      b  1336.0       2.679503\n",
       "2      c  1792.0       3.594063\n",
       "3      d  1640.0       3.289210\n",
       "4      e  4801.0       9.628961"
      ]
     },
     "execution_count": 29,
     "metadata": {},
     "output_type": "execute_result"
    }
   ],
   "source": [
    "letter_rank_df.head()"
   ]
  },
  {
   "cell_type": "code",
   "execution_count": 30,
   "id": "20ac1f15",
   "metadata": {},
   "outputs": [
    {
     "data": {
      "text/plain": [
       "count    26.000000\n",
       "mean      3.846154\n",
       "std       2.807963\n",
       "min       0.196550\n",
       "25%       1.651625\n",
       "50%       3.229041\n",
       "75%       5.439230\n",
       "max      11.285600\n",
       "Name: score_percent, dtype: float64"
      ]
     },
     "execution_count": 30,
     "metadata": {},
     "output_type": "execute_result"
    }
   ],
   "source": [
    "letter_rank_df['score_percent'].describe()"
   ]
  },
  {
   "cell_type": "code",
   "execution_count": 31,
   "id": "091260ec",
   "metadata": {},
   "outputs": [],
   "source": [
    "letter_rank_df['is_vowel'] = int(0)"
   ]
  },
  {
   "cell_type": "code",
   "execution_count": 32,
   "id": "95171cdb",
   "metadata": {},
   "outputs": [],
   "source": [
    "letter_rank_df['colors'] = 'black'"
   ]
  },
  {
   "cell_type": "code",
   "execution_count": null,
   "id": "72a99197-b902-45c9-a9da-b34df91e5032",
   "metadata": {},
   "outputs": [],
   "source": []
  },
  {
   "cell_type": "code",
   "execution_count": 33,
   "id": "5b866764",
   "metadata": {},
   "outputs": [],
   "source": [
    "letter_rank_df.loc[letter_rank_df['letter'].isin(vowels), 'colors'] = 'red'"
   ]
  },
  {
   "cell_type": "code",
   "execution_count": 34,
   "id": "d0a30717",
   "metadata": {},
   "outputs": [],
   "source": [
    "vowels = ['a', 'e', 'i', 'o', 'u', 'y']\n",
    "letter_rank_df.loc[letter_rank_df['letter'].isin(vowels), 'is_vowel'] = 1"
   ]
  },
  {
   "cell_type": "code",
   "execution_count": 35,
   "id": "1ab08978",
   "metadata": {},
   "outputs": [
    {
     "data": {
      "image/png": "[encoded data removed]",
      "text/plain": [
       "<Figure size 640x480 with 1 Axes>"
      ]
     },
     "metadata": {},
     "output_type": "display_data"
    }
   ],
   "source": [
    "# plot\n",
    "#plt.style.use('_mpl-gallery')\n",
    "%matplotlib inline \n",
    "fig, ax = plt.subplots(tight_layout = True)\n",
    "\n",
    "ax.bar(x=letter_rank_df['letter'], height=letter_rank_df['score_percent'],\n",
    "       width=1, edgecolor=\"white\", linewidth=1, color = letter_rank_df['colors'])\n",
    "\n",
    "ax.set(xlim=(-1, 26), xticks=np.arange(0, 26),\n",
    "       ylim=(0, 12), yticks=np.arange(0, 12))\n",
    "ax.set_title('Frequency of Letter Occurrence in 5-letter words')\n",
    "ax.set_xlabel('Letter')\n",
    "ax.set_ylabel('Frequency (%)')\n",
    "\n",
    "plt.savefig(fname = 'letter_score.png', format = 'png',\n",
    "            dpi=96, pad_inches = .5, facecolor='white')\n",
    "#plt.show()"
   ]
  },
  {
   "cell_type": "code",
   "execution_count": null,
   "id": "c832310c",
   "metadata": {},
   "outputs": [],
   "source": []
  },
  {
   "cell_type": "code",
   "execution_count": null,
   "id": "224b3e9c",
   "metadata": {},
   "outputs": [],
   "source": []
  },
  {
   "cell_type": "code",
   "execution_count": null,
   "id": "38ce16f0",
   "metadata": {},
   "outputs": [],
   "source": []
  },
  {
   "cell_type": "code",
   "execution_count": 36,
   "id": "12bbf105",
   "metadata": {},
   "outputs": [],
   "source": [
    "letter_rank_df = letter_rank_df.sort_values(by = 'score', ascending=False)"
   ]
  },
  {
   "cell_type": "code",
   "execution_count": 37,
   "id": "aa496ec9",
   "metadata": {},
   "outputs": [
    {
     "data": {
      "text/html": [
       "<div>\n",
       "<style scoped>\n",
       "    .dataframe tbody tr th:only-of-type {\n",
       "        vertical-align: middle;\n",
       "    }\n",
       "\n",
       "    .dataframe tbody tr th {\n",
       "        vertical-align: top;\n",
       "    }\n",
       "\n",
       "    .dataframe thead th {\n",
       "        text-align: right;\n",
       "    }\n",
       "</style>\n",
       "<table border=\"1\" class=\"dataframe\">\n",
       "  <thead>\n",
       "    <tr style=\"text-align: right;\">\n",
       "      <th></th>\n",
       "      <th>letter</th>\n",
       "      <th>score</th>\n",
       "      <th>score_percent</th>\n",
       "      <th>is_vowel</th>\n",
       "      <th>colors</th>\n",
       "    </tr>\n",
       "  </thead>\n",
       "  <tbody>\n",
       "    <tr>\n",
       "      <th>0</th>\n",
       "      <td>a</td>\n",
       "      <td>5627.0</td>\n",
       "      <td>11.285600</td>\n",
       "      <td>1</td>\n",
       "      <td>red</td>\n",
       "    </tr>\n",
       "    <tr>\n",
       "      <th>4</th>\n",
       "      <td>e</td>\n",
       "      <td>4801.0</td>\n",
       "      <td>9.628961</td>\n",
       "      <td>1</td>\n",
       "      <td>red</td>\n",
       "    </tr>\n",
       "    <tr>\n",
       "      <th>17</th>\n",
       "      <td>r</td>\n",
       "      <td>3460.0</td>\n",
       "      <td>6.939430</td>\n",
       "      <td>0</td>\n",
       "      <td>black</td>\n",
       "    </tr>\n",
       "    <tr>\n",
       "      <th>8</th>\n",
       "      <td>i</td>\n",
       "      <td>3238.0</td>\n",
       "      <td>6.494184</td>\n",
       "      <td>1</td>\n",
       "      <td>red</td>\n",
       "    </tr>\n",
       "    <tr>\n",
       "      <th>14</th>\n",
       "      <td>o</td>\n",
       "      <td>3237.0</td>\n",
       "      <td>6.492178</td>\n",
       "      <td>1</td>\n",
       "      <td>red</td>\n",
       "    </tr>\n",
       "    <tr>\n",
       "      <th>18</th>\n",
       "      <td>s</td>\n",
       "      <td>2814.0</td>\n",
       "      <td>5.643803</td>\n",
       "      <td>0</td>\n",
       "      <td>black</td>\n",
       "    </tr>\n",
       "    <tr>\n",
       "      <th>11</th>\n",
       "      <td>l</td>\n",
       "      <td>2719.0</td>\n",
       "      <td>5.453269</td>\n",
       "      <td>0</td>\n",
       "      <td>black</td>\n",
       "    </tr>\n",
       "    <tr>\n",
       "      <th>13</th>\n",
       "      <td>n</td>\n",
       "      <td>2691.0</td>\n",
       "      <td>5.397112</td>\n",
       "      <td>0</td>\n",
       "      <td>black</td>\n",
       "    </tr>\n",
       "    <tr>\n",
       "      <th>19</th>\n",
       "      <td>t</td>\n",
       "      <td>2662.0</td>\n",
       "      <td>5.338949</td>\n",
       "      <td>0</td>\n",
       "      <td>black</td>\n",
       "    </tr>\n",
       "    <tr>\n",
       "      <th>20</th>\n",
       "      <td>u</td>\n",
       "      <td>2264.0</td>\n",
       "      <td>4.540714</td>\n",
       "      <td>1</td>\n",
       "      <td>red</td>\n",
       "    </tr>\n",
       "  </tbody>\n",
       "</table>\n",
       "</div>"
      ],
      "text/plain": [
       "   letter   score  score_percent  is_vowel colors\n",
       "0       a  5627.0      11.285600         1    red\n",
       "4       e  4801.0       9.628961         1    red\n",
       "17      r  3460.0       6.939430         0  black\n",
       "8       i  3238.0       6.494184         1    red\n",
       "14      o  3237.0       6.492178         1    red\n",
       "18      s  2814.0       5.643803         0  black\n",
       "11      l  2719.0       5.453269         0  black\n",
       "13      n  2691.0       5.397112         0  black\n",
       "19      t  2662.0       5.338949         0  black\n",
       "20      u  2264.0       4.540714         1    red"
      ]
     },
     "execution_count": 37,
     "metadata": {},
     "output_type": "execute_result"
    }
   ],
   "source": [
    "letter_rank_df.head(10)"
   ]
  },
  {
   "cell_type": "code",
   "execution_count": null,
   "id": "ee35dad0",
   "metadata": {},
   "outputs": [],
   "source": []
  },
  {
   "cell_type": "code",
   "execution_count": null,
   "id": "68514e2b",
   "metadata": {},
   "outputs": [],
   "source": []
  },
  {
   "cell_type": "code",
   "execution_count": null,
   "id": "181bef94",
   "metadata": {},
   "outputs": [],
   "source": []
  },
  {
   "cell_type": "code",
   "execution_count": null,
   "id": "e13b0d5d",
   "metadata": {},
   "outputs": [],
   "source": []
  },
  {
   "cell_type": "code",
   "execution_count": 38,
   "id": "c1f9f5b4",
   "metadata": {},
   "outputs": [],
   "source": [
    "# now, score each word\n",
    "df['n_unique_chars'] = df['lcase'].map(lambda x: len(set(x)))"
   ]
  },
  {
   "cell_type": "code",
   "execution_count": null,
   "id": "dbe8e8d8",
   "metadata": {},
   "outputs": [],
   "source": []
  },
  {
   "cell_type": "code",
   "execution_count": null,
   "id": "3fd1b0a7",
   "metadata": {},
   "outputs": [],
   "source": []
  },
  {
   "cell_type": "code",
   "execution_count": 39,
   "id": "d17b4d03",
   "metadata": {},
   "outputs": [],
   "source": [
    "# now, add each letter.\n",
    "def sum_letters(x):\n",
    "    curr_score = 0\n",
    "    for l in x:\n",
    "        curr_score += letter_rank_dict[l]\n",
    "    \n",
    "    return curr_score"
   ]
  },
  {
   "cell_type": "code",
   "execution_count": 40,
   "id": "f98b3186",
   "metadata": {},
   "outputs": [],
   "source": [
    "df['word_score'] = df['lcase'].map(sum_letters)"
   ]
  },
  {
   "cell_type": "code",
   "execution_count": 41,
   "id": "184f81a8",
   "metadata": {},
   "outputs": [
    {
     "data": {
      "text/html": [
       "<div>\n",
       "<style scoped>\n",
       "    .dataframe tbody tr th:only-of-type {\n",
       "        vertical-align: middle;\n",
       "    }\n",
       "\n",
       "    .dataframe tbody tr th {\n",
       "        vertical-align: top;\n",
       "    }\n",
       "\n",
       "    .dataframe thead th {\n",
       "        text-align: right;\n",
       "    }\n",
       "</style>\n",
       "<table border=\"1\" class=\"dataframe\">\n",
       "  <thead>\n",
       "    <tr style=\"text-align: right;\">\n",
       "      <th></th>\n",
       "      <th>word</th>\n",
       "      <th>lcase</th>\n",
       "      <th>word_id</th>\n",
       "      <th>n_unique_chars</th>\n",
       "      <th>word_score</th>\n",
       "    </tr>\n",
       "  </thead>\n",
       "  <tbody>\n",
       "    <tr>\n",
       "      <th>0</th>\n",
       "      <td>aalii</td>\n",
       "      <td>aalii</td>\n",
       "      <td>0</td>\n",
       "      <td>3</td>\n",
       "      <td>20449.0</td>\n",
       "    </tr>\n",
       "    <tr>\n",
       "      <th>1</th>\n",
       "      <td>Aaron</td>\n",
       "      <td>aaron</td>\n",
       "      <td>1</td>\n",
       "      <td>4</td>\n",
       "      <td>20642.0</td>\n",
       "    </tr>\n",
       "    <tr>\n",
       "      <th>2</th>\n",
       "      <td>abaca</td>\n",
       "      <td>abaca</td>\n",
       "      <td>2</td>\n",
       "      <td>3</td>\n",
       "      <td>20009.0</td>\n",
       "    </tr>\n",
       "    <tr>\n",
       "      <th>3</th>\n",
       "      <td>aback</td>\n",
       "      <td>aback</td>\n",
       "      <td>3</td>\n",
       "      <td>4</td>\n",
       "      <td>15456.0</td>\n",
       "    </tr>\n",
       "    <tr>\n",
       "      <th>4</th>\n",
       "      <td>abaff</td>\n",
       "      <td>abaff</td>\n",
       "      <td>4</td>\n",
       "      <td>3</td>\n",
       "      <td>14038.0</td>\n",
       "    </tr>\n",
       "  </tbody>\n",
       "</table>\n",
       "</div>"
      ],
      "text/plain": [
       "    word  lcase  word_id  n_unique_chars  word_score\n",
       "0  aalii  aalii        0               3     20449.0\n",
       "1  Aaron  aaron        1               4     20642.0\n",
       "2  abaca  abaca        2               3     20009.0\n",
       "3  aback  aback        3               4     15456.0\n",
       "4  abaff  abaff        4               3     14038.0"
      ]
     },
     "execution_count": 41,
     "metadata": {},
     "output_type": "execute_result"
    }
   ],
   "source": [
    "df.head()"
   ]
  },
  {
   "cell_type": "code",
   "execution_count": 42,
   "id": "c67412fe",
   "metadata": {},
   "outputs": [
    {
     "data": {
      "text/plain": [
       "['a', 'b', 't']"
      ]
     },
     "execution_count": 42,
     "metadata": {},
     "output_type": "execute_result"
    }
   ],
   "source": [
    "sorted('bat')"
   ]
  },
  {
   "cell_type": "code",
   "execution_count": null,
   "id": "40419471",
   "metadata": {},
   "outputs": [],
   "source": []
  },
  {
   "cell_type": "code",
   "execution_count": 43,
   "id": "2621525c",
   "metadata": {},
   "outputs": [],
   "source": [
    "# identify the word group\n",
    "df['word_group'] = df['lcase'].map(lambda x: hash(tuple(sorted(x))))"
   ]
  },
  {
   "cell_type": "code",
   "execution_count": 44,
   "id": "8db7b80c",
   "metadata": {},
   "outputs": [],
   "source": [
    "# now, sort\n",
    "wdf = df.sort_values(by = ['n_unique_chars', 'word_score'], ascending = False)"
   ]
  },
  {
   "cell_type": "code",
   "execution_count": 45,
   "id": "10825dbb",
   "metadata": {},
   "outputs": [
    {
     "data": {
      "text/html": [
       "<div>\n",
       "<style scoped>\n",
       "    .dataframe tbody tr th:only-of-type {\n",
       "        vertical-align: middle;\n",
       "    }\n",
       "\n",
       "    .dataframe tbody tr th {\n",
       "        vertical-align: top;\n",
       "    }\n",
       "\n",
       "    .dataframe thead th {\n",
       "        text-align: right;\n",
       "    }\n",
       "</style>\n",
       "<table border=\"1\" class=\"dataframe\">\n",
       "  <thead>\n",
       "    <tr style=\"text-align: right;\">\n",
       "      <th></th>\n",
       "      <th>word</th>\n",
       "      <th>lcase</th>\n",
       "      <th>word_id</th>\n",
       "      <th>n_unique_chars</th>\n",
       "      <th>word_score</th>\n",
       "      <th>word_group</th>\n",
       "    </tr>\n",
       "  </thead>\n",
       "  <tbody>\n",
       "    <tr>\n",
       "      <th>568</th>\n",
       "      <td>Aries</td>\n",
       "      <td>aries</td>\n",
       "      <td>568</td>\n",
       "      <td>5</td>\n",
       "      <td>19940.0</td>\n",
       "      <td>-7593473510551836896</td>\n",
       "    </tr>\n",
       "    <tr>\n",
       "      <th>572</th>\n",
       "      <td>arise</td>\n",
       "      <td>arise</td>\n",
       "      <td>572</td>\n",
       "      <td>5</td>\n",
       "      <td>19940.0</td>\n",
       "      <td>-7593473510551836896</td>\n",
       "    </tr>\n",
       "    <tr>\n",
       "      <th>6726</th>\n",
       "      <td>raise</td>\n",
       "      <td>raise</td>\n",
       "      <td>6726</td>\n",
       "      <td>5</td>\n",
       "      <td>19940.0</td>\n",
       "      <td>-7593473510551836896</td>\n",
       "    </tr>\n",
       "    <tr>\n",
       "      <th>7430</th>\n",
       "      <td>serai</td>\n",
       "      <td>serai</td>\n",
       "      <td>7430</td>\n",
       "      <td>5</td>\n",
       "      <td>19940.0</td>\n",
       "      <td>-7593473510551836896</td>\n",
       "    </tr>\n",
       "    <tr>\n",
       "      <th>592</th>\n",
       "      <td>arose</td>\n",
       "      <td>arose</td>\n",
       "      <td>592</td>\n",
       "      <td>5</td>\n",
       "      <td>19939.0</td>\n",
       "      <td>7873129116485683232</td>\n",
       "    </tr>\n",
       "  </tbody>\n",
       "</table>\n",
       "</div>"
      ],
      "text/plain": [
       "       word  lcase  word_id  n_unique_chars  word_score           word_group\n",
       "568   Aries  aries      568               5     19940.0 -7593473510551836896\n",
       "572   arise  arise      572               5     19940.0 -7593473510551836896\n",
       "6726  raise  raise     6726               5     19940.0 -7593473510551836896\n",
       "7430  serai  serai     7430               5     19940.0 -7593473510551836896\n",
       "592   arose  arose      592               5     19939.0  7873129116485683232"
      ]
     },
     "execution_count": 45,
     "metadata": {},
     "output_type": "execute_result"
    }
   ],
   "source": [
    "wdf.head()"
   ]
  },
  {
   "cell_type": "code",
   "execution_count": 46,
   "id": "33cc5650",
   "metadata": {},
   "outputs": [],
   "source": [
    "wg_df = wdf.loc[wdf['n_unique_chars'] == 5, ['word_group', 'word_score']].drop_duplicates()"
   ]
  },
  {
   "cell_type": "code",
   "execution_count": 47,
   "id": "018c7e09",
   "metadata": {},
   "outputs": [],
   "source": [
    "wg_df = wg_df.sort_values(by = ['word_score'], ascending = False )"
   ]
  },
  {
   "cell_type": "code",
   "execution_count": 48,
   "id": "391a763c",
   "metadata": {},
   "outputs": [],
   "source": [
    "top_five_wg = wg_df['word_group'].iloc[:10]"
   ]
  },
  {
   "cell_type": "code",
   "execution_count": 49,
   "id": "490c63b4",
   "metadata": {},
   "outputs": [
    {
     "data": {
      "text/plain": [
       "568    -7593473510551836896\n",
       "592     7873129116485683232\n",
       "567    -4000815792010694652\n",
       "4834   -9043404346120419233\n",
       "2852    6939566469899293687\n",
       "574     3352182351503917293\n",
       "5955    4770398287816253933\n",
       "578    -4349918319594474227\n",
       "472    -8055553736132489469\n",
       "657     5444102255463468359\n",
       "Name: word_group, dtype: int64"
      ]
     },
     "execution_count": 49,
     "metadata": {},
     "output_type": "execute_result"
    }
   ],
   "source": [
    "top_five_wg"
   ]
  },
  {
   "cell_type": "code",
   "execution_count": 50,
   "id": "eb72a5c8",
   "metadata": {},
   "outputs": [
    {
     "name": "stdout",
     "output_type": "stream",
     "text": [
      "['aries', 'arise', 'raise', 'serai']\n",
      "['arose', 'oreas']\n",
      "['ariel']\n",
      "['leora']\n",
      "['erian', 'irena', 'reina']\n",
      "['arite', 'artie', 'irate', 'retia', 'tarie']\n",
      "['orate']\n",
      "['arles', 'arsle', 'laser', 'seral', 'slare']\n",
      "['anser', 'nares', 'rasen', 'snare']\n",
      "['aster', 'serta', 'stare', 'strae', 'tarse', 'teras']\n"
     ]
    }
   ],
   "source": [
    "for wg in top_five_wg:\n",
    "    #print(wg)\n",
    "    curr_word = wdf.loc[wdf['word_group']==wg, 'lcase'].tolist()\n",
    "    print(curr_word)\n",
    "    "
   ]
  },
  {
   "cell_type": "code",
   "execution_count": null,
   "id": "3ce12db7",
   "metadata": {},
   "outputs": [],
   "source": []
  },
  {
   "cell_type": "code",
   "execution_count": 51,
   "id": "32313d69",
   "metadata": {},
   "outputs": [
    {
     "data": {
      "text/html": [
       "<div>\n",
       "<style scoped>\n",
       "    .dataframe tbody tr th:only-of-type {\n",
       "        vertical-align: middle;\n",
       "    }\n",
       "\n",
       "    .dataframe tbody tr th {\n",
       "        vertical-align: top;\n",
       "    }\n",
       "\n",
       "    .dataframe thead th {\n",
       "        text-align: right;\n",
       "    }\n",
       "</style>\n",
       "<table border=\"1\" class=\"dataframe\">\n",
       "  <thead>\n",
       "    <tr style=\"text-align: right;\">\n",
       "      <th></th>\n",
       "      <th>word_group</th>\n",
       "      <th>word_score</th>\n",
       "    </tr>\n",
       "  </thead>\n",
       "  <tbody>\n",
       "    <tr>\n",
       "      <th>568</th>\n",
       "      <td>-7593473510551836896</td>\n",
       "      <td>19940.0</td>\n",
       "    </tr>\n",
       "    <tr>\n",
       "      <th>592</th>\n",
       "      <td>7873129116485683232</td>\n",
       "      <td>19939.0</td>\n",
       "    </tr>\n",
       "    <tr>\n",
       "      <th>567</th>\n",
       "      <td>-4000815792010694652</td>\n",
       "      <td>19845.0</td>\n",
       "    </tr>\n",
       "    <tr>\n",
       "      <th>4834</th>\n",
       "      <td>-9043404346120419233</td>\n",
       "      <td>19844.0</td>\n",
       "    </tr>\n",
       "    <tr>\n",
       "      <th>2852</th>\n",
       "      <td>6939566469899293687</td>\n",
       "      <td>19817.0</td>\n",
       "    </tr>\n",
       "  </tbody>\n",
       "</table>\n",
       "</div>"
      ],
      "text/plain": [
       "               word_group  word_score\n",
       "568  -7593473510551836896     19940.0\n",
       "592   7873129116485683232     19939.0\n",
       "567  -4000815792010694652     19845.0\n",
       "4834 -9043404346120419233     19844.0\n",
       "2852  6939566469899293687     19817.0"
      ]
     },
     "execution_count": 51,
     "metadata": {},
     "output_type": "execute_result"
    }
   ],
   "source": [
    "wg_df.head()"
   ]
  },
  {
   "cell_type": "code",
   "execution_count": 52,
   "id": "00522424",
   "metadata": {},
   "outputs": [
    {
     "data": {
      "text/html": [
       "<div>\n",
       "<style scoped>\n",
       "    .dataframe tbody tr th:only-of-type {\n",
       "        vertical-align: middle;\n",
       "    }\n",
       "\n",
       "    .dataframe tbody tr th {\n",
       "        vertical-align: top;\n",
       "    }\n",
       "\n",
       "    .dataframe thead th {\n",
       "        text-align: right;\n",
       "    }\n",
       "</style>\n",
       "<table border=\"1\" class=\"dataframe\">\n",
       "  <thead>\n",
       "    <tr style=\"text-align: right;\">\n",
       "      <th></th>\n",
       "      <th>word_group</th>\n",
       "      <th>word_score</th>\n",
       "    </tr>\n",
       "  </thead>\n",
       "  <tbody>\n",
       "    <tr>\n",
       "      <th>568</th>\n",
       "      <td>-7593473510551836896</td>\n",
       "      <td>19940.0</td>\n",
       "    </tr>\n",
       "    <tr>\n",
       "      <th>592</th>\n",
       "      <td>7873129116485683232</td>\n",
       "      <td>19939.0</td>\n",
       "    </tr>\n",
       "    <tr>\n",
       "      <th>567</th>\n",
       "      <td>-4000815792010694652</td>\n",
       "      <td>19845.0</td>\n",
       "    </tr>\n",
       "    <tr>\n",
       "      <th>4834</th>\n",
       "      <td>-9043404346120419233</td>\n",
       "      <td>19844.0</td>\n",
       "    </tr>\n",
       "    <tr>\n",
       "      <th>2852</th>\n",
       "      <td>6939566469899293687</td>\n",
       "      <td>19817.0</td>\n",
       "    </tr>\n",
       "  </tbody>\n",
       "</table>\n",
       "</div>"
      ],
      "text/plain": [
       "               word_group  word_score\n",
       "568  -7593473510551836896     19940.0\n",
       "592   7873129116485683232     19939.0\n",
       "567  -4000815792010694652     19845.0\n",
       "4834 -9043404346120419233     19844.0\n",
       "2852  6939566469899293687     19817.0"
      ]
     },
     "execution_count": 52,
     "metadata": {},
     "output_type": "execute_result"
    }
   ],
   "source": [
    "wg_df.head()"
   ]
  },
  {
   "cell_type": "code",
   "execution_count": 53,
   "id": "cb80e3be",
   "metadata": {},
   "outputs": [],
   "source": [
    "# aries, arise, raise, and serai are the best words to start with"
   ]
  },
  {
   "cell_type": "code",
   "execution_count": 54,
   "id": "91b5a59a",
   "metadata": {},
   "outputs": [],
   "source": [
    "# save this stuff\n",
    "# the df, the letter dictionary, the char_matrix, and the letter_dict_Rank"
   ]
  },
  {
   "cell_type": "code",
   "execution_count": 55,
   "id": "43557874",
   "metadata": {},
   "outputs": [],
   "source": [
    "df.to_pickle(path = 'word_df.pkl')"
   ]
  },
  {
   "cell_type": "code",
   "execution_count": 56,
   "id": "0d5195ac",
   "metadata": {},
   "outputs": [],
   "source": [
    "with open('letter_dict.pkl', 'wb') as handle:\n",
    "    pickle.dump(letter_dict, handle, protocol=pickle.HIGHEST_PROTOCOL)"
   ]
  },
  {
   "cell_type": "code",
   "execution_count": 57,
   "id": "dbe9ba3d",
   "metadata": {},
   "outputs": [],
   "source": [
    "with open('char_matrix.pkl', 'wb') as handle:\n",
    "    pickle.dump(char_matrix, handle, protocol=pickle.HIGHEST_PROTOCOL)"
   ]
  },
  {
   "cell_type": "code",
   "execution_count": 58,
   "id": "9ab055ec",
   "metadata": {},
   "outputs": [],
   "source": [
    "with open('letter_rank_dict.pkl', 'wb') as handle:\n",
    "    pickle.dump(letter_rank_dict, handle, protocol=pickle.HIGHEST_PROTOCOL)"
   ]
  },
  {
   "cell_type": "code",
   "execution_count": null,
   "id": "d899c2bf",
   "metadata": {},
   "outputs": [],
   "source": []
  },
  {
   "cell_type": "code",
   "execution_count": null,
   "id": "4541696d",
   "metadata": {},
   "outputs": [],
   "source": []
  },
  {
   "cell_type": "code",
   "execution_count": null,
   "id": "abddf82c",
   "metadata": {},
   "outputs": [],
   "source": []
  },
  {
   "cell_type": "code",
   "execution_count": 59,
   "id": "8ac0d4b4",
   "metadata": {},
   "outputs": [],
   "source": [
    "# now, let's try this another way: count the letters in each position\n",
    "letter_matrix = np.zeros(shape = (26, 5))"
   ]
  },
  {
   "cell_type": "code",
   "execution_count": null,
   "id": "59e9d761",
   "metadata": {},
   "outputs": [],
   "source": []
  },
  {
   "cell_type": "code",
   "execution_count": null,
   "id": "0f37502d",
   "metadata": {},
   "outputs": [],
   "source": []
  },
  {
   "cell_type": "code",
   "execution_count": null,
   "id": "ab73d6c2",
   "metadata": {},
   "outputs": [],
   "source": []
  },
  {
   "cell_type": "code",
   "execution_count": null,
   "id": "86ec2a4a",
   "metadata": {},
   "outputs": [],
   "source": []
  },
  {
   "cell_type": "code",
   "execution_count": 60,
   "id": "da7aa108",
   "metadata": {},
   "outputs": [],
   "source": [
    "def pop_letter_matrix(x):\n",
    "    \n",
    "    for i_ll, ll in enumerate(x):\n",
    "        # row, then columns\n",
    "        letter_matrix[letter_dict[ll], i_ll] += 1\n",
    "        \n",
    "    return None  "
   ]
  },
  {
   "cell_type": "code",
   "execution_count": 61,
   "id": "41c8fc19",
   "metadata": {},
   "outputs": [],
   "source": [
    "output = df['lcase'].map(pop_letter_matrix)"
   ]
  },
  {
   "cell_type": "code",
   "execution_count": 62,
   "id": "4d4563bd",
   "metadata": {},
   "outputs": [
    {
     "data": {
      "text/plain": [
       "(26, 5)"
      ]
     },
     "execution_count": 62,
     "metadata": {},
     "output_type": "execute_result"
    }
   ],
   "source": [
    "letter_matrix.shape"
   ]
  },
  {
   "cell_type": "code",
   "execution_count": 63,
   "id": "53ad0b4c",
   "metadata": {},
   "outputs": [],
   "source": [
    "# now, we use the which max to find the index of the most common letter\n",
    "# this will tell us highest ranked position of each letter across all letters\n",
    "output = np.argmax(a = letter_matrix, axis = 1)"
   ]
  },
  {
   "cell_type": "code",
   "execution_count": 64,
   "id": "52cfb659",
   "metadata": {},
   "outputs": [
    {
     "data": {
      "text/plain": [
       "array([1, 0, 0, 4, 4, 0, 0, 1, 1, 0, 4, 2, 0, 2, 1, 0, 0, 2, 0, 4, 1, 2,\n",
       "       0, 4, 4, 3], dtype=int64)"
      ]
     },
     "execution_count": 64,
     "metadata": {},
     "output_type": "execute_result"
    }
   ],
   "source": [
    "output"
   ]
  },
  {
   "cell_type": "code",
   "execution_count": null,
   "id": "bfb07a14",
   "metadata": {},
   "outputs": [],
   "source": []
  },
  {
   "cell_type": "code",
   "execution_count": null,
   "id": "293935a1",
   "metadata": {},
   "outputs": [],
   "source": []
  },
  {
   "cell_type": "code",
   "execution_count": null,
   "id": "17c3476e",
   "metadata": {},
   "outputs": [],
   "source": []
  },
  {
   "cell_type": "code",
   "execution_count": null,
   "id": "c006ab7e",
   "metadata": {},
   "outputs": [],
   "source": []
  }
 ],
 "metadata": {
  "kernelspec": {
   "display_name": "Python 3 (ipykernel)",
   "language": "python",
   "name": "python3"
  },
  "language_info": {
   "codemirror_mode": {
    "name": "ipython",
    "version": 3
   },
   "file_extension": ".py",
   "mimetype": "text/x-python",
   "name": "python",
   "nbconvert_exporter": "python",
   "pygments_lexer": "ipython3",
   "version": "3.12.4"
  }
 },
 "nbformat": 4,
 "nbformat_minor": 5
}
