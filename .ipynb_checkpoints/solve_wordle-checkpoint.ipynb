{
 "cells": [
  {
   "cell_type": "code",
   "execution_count": null,
   "id": "2da60781",
   "metadata": {},
   "outputs": [],
   "source": [
    "# mike babb\n",
    "# 2022 03 03 \n",
    "# solve wordle"
   ]
  },
  {
   "cell_type": "code",
   "execution_count": null,
   "id": "50dd7ff8",
   "metadata": {},
   "outputs": [],
   "source": [
    "# standard\n",
    "import pickle\n",
    "import os\n",
    "import sqlite3\n",
    "from string import ascii_lowercase"
   ]
  },
  {
   "cell_type": "code",
   "execution_count": null,
   "id": "c393ed2d",
   "metadata": {},
   "outputs": [],
   "source": [
    "import pandas as pd\n",
    "import numpy as np"
   ]
  },
  {
   "cell_type": "code",
   "execution_count": null,
   "id": "1dcf5ffb",
   "metadata": {},
   "outputs": [],
   "source": [
    "# define a function to load a pickle\n",
    "def load_pickle(file_name):\n",
    "    if os.path.exists(file_name):\n",
    "        with open(file_name, 'rb') as handle:\n",
    "            de_pickle = pickle.load(handle)\n",
    "    else:\n",
    "        de_pickle = None\n",
    "        print(\"file does not exist\")\n",
    "    return de_pickle"
   ]
  },
  {
   "cell_type": "code",
   "execution_count": null,
   "id": "7b82deb1",
   "metadata": {},
   "outputs": [],
   "source": [
    "char_matrix = load_pickle(file_name = 'char_matrix.pkl')\n",
    "letter_dict = load_pickle(file_name = 'letter_dict.pkl')\n",
    "letter_rank_dict = load_pickle(file_name ='letter_rank_dict.pkl')\n",
    "word_df = load_pickle(file_name = 'word_df.pkl')"
   ]
  },
  {
   "cell_type": "code",
   "execution_count": null,
   "id": "bec971d7",
   "metadata": {},
   "outputs": [],
   "source": [
    "word_df.head()"
   ]
  },
  {
   "cell_type": "code",
   "execution_count": null,
   "id": "490c3597",
   "metadata": {},
   "outputs": [],
   "source": [
    "# gather the word id\n",
    "word_id_list = word_df['word_id'].to_numpy()"
   ]
  },
  {
   "cell_type": "code",
   "execution_count": null,
   "id": "b4a78eca",
   "metadata": {},
   "outputs": [],
   "source": []
  },
  {
   "cell_type": "code",
   "execution_count": null,
   "id": "97ed9182",
   "metadata": {},
   "outputs": [],
   "source": [
    "def suggest_words(toss_letters = None, \n",
    "                  known_pos = None, known_anti_pos = None):\n",
    "    \"\"\"\n",
    "    toss_letters: list. Letters known to be in the word\n",
    "    known_pos: list. Letters in the correct position\n",
    "    known_anti_pos: list. Letters in the incorrect position\n",
    "    \n",
    "    entering no values returns a list of suggested starting words, ranked by the frequency\n",
    "    of each letter's occurence. Higher ranked words contain letters that occur more\n",
    "    frequently across all five-digit words.    \n",
    "    \"\"\"    \n",
    "       \n",
    "    # intialize lists if necessary\n",
    "    blank_count = 0\n",
    "    \n",
    "    if toss_letters is None:\n",
    "        toss_letters = ['']*5\n",
    "        blank_count += 1\n",
    "    if known_pos is None:\n",
    "        known_pos = ['']*5\n",
    "        blank_count += 1    \n",
    "    if known_anti_pos is None:\n",
    "        known_anti_pos = ['']*5\n",
    "        blank_count += 1\n",
    "    \n",
    "    # check if the user supplied values\n",
    "    if blank_count <3:\n",
    "    \n",
    "        # use this list to winnow down selections\n",
    "        zero_id_list = np.zeros(shape = word_id_list.shape, dtype = int)\n",
    "        \n",
    "        # build the list of letters that are known\n",
    "        keep_letters = set(known_pos)\n",
    "        keep_letters = keep_letters.union(known_anti_pos)\n",
    "                               \n",
    "        for kl in keep_letters:\n",
    "            if kl != '':\n",
    "                zero_id_list[char_matrix[:, letter_dict[kl]]>0] += 1\n",
    "                \n",
    "        # decrement a word when there is an incorrect letter\n",
    "        for tl in toss_letters:\n",
    "            if tl != '':\n",
    "                zero_id_list[char_matrix[:, letter_dict[tl]]>0] -= 1\n",
    "        \n",
    "        # this is the list of word_ids that have letters of interest\n",
    "        curr_word_five_id_list = word_id_list[zero_id_list >= (len(keep_letters) - 1)]\n",
    "\n",
    "        # select from the data frame based on the word id\n",
    "        curr_df = word_df.loc[word_df['word_id'].isin(curr_word_five_id_list),\n",
    "                          ['lcase', 'word_score', 'n_unique_chars']]\n",
    "\n",
    "        # the list of possible words, after removing words with incorrect letters\n",
    "        pos_words = curr_df['lcase'].values        \n",
    "\n",
    "        # we're going to make use of the lists of letters with known positions\n",
    "        # and letters known to be in the word, but in the incorrect post\n",
    "        output_list = np.full(shape = pos_words.shape, fill_value=True)\n",
    "        #print(known_pos)\n",
    "        #print(known_anti_pos)\n",
    "        # enumerate each word        \n",
    "        for i_pos_word, pos_word in enumerate(pos_words):\n",
    "            #print(pw)            \n",
    "            # enumerate each character in each word\n",
    "            for ii_pwl, i_pwl in enumerate(pos_word):\n",
    "                # known positions\n",
    "                # based on the index, remove the word if the letters do not match\n",
    "                if known_pos[ii_pwl] != '':\n",
    "                    #print(kp[ii_pw], i_pw)\n",
    "                    if known_pos[ii_pwl] != i_pwl:\n",
    "                        output_list[i_pos_word] = False\n",
    "                # known anti-positions                \n",
    "                # based on the index, remove the word if the letters do match\n",
    "                if known_anti_pos[ii_pwl] != '':\n",
    "                    #print(kap[ii_pwl], i_pwl)\n",
    "                    if known_anti_pos[ii_pwl] == i_pwl:\n",
    "                        output_list[i_pos_word] = False\n",
    "        \n",
    "        # the list of possible words\n",
    "        pos_words = pos_words[output_list]\n",
    "        \n",
    "        wdf = word_df.loc[word_df['lcase'].isin(pos_words), ['lcase', 'n_unique_chars', 'word_score']]\n",
    "        \n",
    "    else:\n",
    "        # the initial list of words to choose from, sorted by unique characters and word score\n",
    "        wdf = word_df.sort_values(by = ['n_unique_chars', 'word_score'],\n",
    "                                 ascending=False)\n",
    "    pos_words = wdf['lcase']\n",
    "    pos_words = pos_words.tolist()\n",
    "    print(pos_words)"
   ]
  },
  {
   "cell_type": "code",
   "execution_count": null,
   "id": "f502eee6",
   "metadata": {},
   "outputs": [],
   "source": [
    "# letters known to not be in the word\n",
    "# can be a list any length long\n",
    "toss_letters = ['r', 'a', 'i', 's', 'n', 'm', 'b']\n",
    "\n",
    "# letters in the correct position\n",
    "# list with length five\n",
    "kp = ['d', '', '', '', '']\n",
    "\n",
    "# letters in the word, but in the incorrect spot\n",
    "# list with \n",
    "kap = ['', '', '', '', '']\n",
    "\n",
    "# iterate until a solution is found\n",
    "suggest_words(toss_letters = toss_letters, known_pos = kp, known_anti_pos = kap)"
   ]
  },
  {
   "cell_type": "code",
   "execution_count": null,
   "id": "3b9c0721",
   "metadata": {},
   "outputs": [],
   "source": []
  },
  {
   "cell_type": "code",
   "execution_count": null,
   "id": "f85902ca",
   "metadata": {},
   "outputs": [],
   "source": []
  }
 ],
 "metadata": {
  "kernelspec": {
   "display_name": "Python 3 (ipykernel)",
   "language": "python",
   "name": "python3"
  },
  "language_info": {
   "codemirror_mode": {
    "name": "ipython",
    "version": 3
   },
   "file_extension": ".py",
   "mimetype": "text/x-python",
   "name": "python",
   "nbconvert_exporter": "python",
   "pygments_lexer": "ipython3",
   "version": "3.8.12"
  }
 },
 "nbformat": 4,
 "nbformat_minor": 5
}
