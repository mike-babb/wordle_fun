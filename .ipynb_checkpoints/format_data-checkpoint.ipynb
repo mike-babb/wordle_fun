{
 "cells": [
  {
   "cell_type": "code",
   "execution_count": null,
   "id": "c680b13b",
   "metadata": {},
   "outputs": [],
   "source": [
    "# mike babb\n",
    "# 2022 03 03\n",
    "# import and format data"
   ]
  },
  {
   "cell_type": "code",
   "execution_count": null,
   "id": "53308855",
   "metadata": {},
   "outputs": [],
   "source": [
    "# standard\n",
    "import pickle\n",
    "import os\n",
    "from string import ascii_lowercase"
   ]
  },
  {
   "cell_type": "code",
   "execution_count": null,
   "id": "7d8bac27",
   "metadata": {},
   "outputs": [],
   "source": [
    "# external\n",
    "import matplotlib.pyplot as plt\n",
    "import numpy as np\n",
    "import pandas as pd\n"
   ]
  },
  {
   "cell_type": "code",
   "execution_count": null,
   "id": "f9f53c77",
   "metadata": {},
   "outputs": [],
   "source": [
    "# import the \n",
    "df = pd.read_csv(filepath_or_buffer='words5.csv', header = None, names = ['word'])"
   ]
  },
  {
   "cell_type": "code",
   "execution_count": null,
   "id": "20ff3554",
   "metadata": {},
   "outputs": [],
   "source": [
    "df.head()"
   ]
  },
  {
   "cell_type": "code",
   "execution_count": null,
   "id": "7e75ec99",
   "metadata": {},
   "outputs": [],
   "source": [
    "# make everything lowercase\n",
    "df['lcase'] = df['word'].str.lower()"
   ]
  },
  {
   "cell_type": "code",
   "execution_count": null,
   "id": "4872beaa",
   "metadata": {},
   "outputs": [],
   "source": [
    "df.head()"
   ]
  },
  {
   "cell_type": "code",
   "execution_count": null,
   "id": "ea54df46",
   "metadata": {},
   "outputs": [],
   "source": [
    "# let's sort, and then create an ID\n",
    "df = df.sort_values(by = ['lcase', 'word'])"
   ]
  },
  {
   "cell_type": "code",
   "execution_count": null,
   "id": "518933ae",
   "metadata": {},
   "outputs": [],
   "source": [
    "df['word_id'] = df.index"
   ]
  },
  {
   "cell_type": "code",
   "execution_count": null,
   "id": "0a29e525",
   "metadata": {},
   "outputs": [],
   "source": [
    "df.head()"
   ]
  },
  {
   "cell_type": "code",
   "execution_count": null,
   "id": "a069f0b5",
   "metadata": {},
   "outputs": [],
   "source": [
    "# now, we need to create a matrix that we will use to \"score\" each word"
   ]
  },
  {
   "cell_type": "code",
   "execution_count": null,
   "id": "6cccf9b4",
   "metadata": {},
   "outputs": [],
   "source": [
    "df.shape"
   ]
  },
  {
   "cell_type": "code",
   "execution_count": null,
   "id": "57cb62a5",
   "metadata": {},
   "outputs": [],
   "source": [
    "char_matrix = np.zeros(shape = (len(df), 26))"
   ]
  },
  {
   "cell_type": "code",
   "execution_count": null,
   "id": "4cb33904",
   "metadata": {},
   "outputs": [],
   "source": [
    "# we will also need a dictionary that tracks the position of each letter\n",
    "letter_dict = {l:p for p, l in enumerate(ascii_lowercase)}"
   ]
  },
  {
   "cell_type": "code",
   "execution_count": null,
   "id": "8078322e",
   "metadata": {},
   "outputs": [],
   "source": [
    "# now, we need to enumerate each row in the df and populate the matrix\n",
    "# the id of the word corresponds to the word\n",
    "def pop_matrix(row):\n",
    "    curr_index = row['word_id']\n",
    "    curr_word = row['lcase']\n",
    "    for i_cl, cl in enumerate(curr_word):\n",
    "        # use our dicationary\n",
    "        char_matrix[curr_index, letter_dict[cl]] += 1\n",
    "        \n",
    "    return None"
   ]
  },
  {
   "cell_type": "code",
   "execution_count": null,
   "id": "2dddc1a6",
   "metadata": {},
   "outputs": [],
   "source": [
    "output = df.apply(pop_matrix, 1)"
   ]
  },
  {
   "cell_type": "code",
   "execution_count": null,
   "id": "ed216b4a",
   "metadata": {},
   "outputs": [],
   "source": [
    "char_matrix"
   ]
  },
  {
   "cell_type": "code",
   "execution_count": null,
   "id": "73de9695",
   "metadata": {},
   "outputs": [],
   "source": [
    "# row sum to check!\n",
    "rs_check = char_matrix.sum(1)"
   ]
  },
  {
   "cell_type": "code",
   "execution_count": null,
   "id": "5bc62654",
   "metadata": {},
   "outputs": [],
   "source": [
    "# okay! now... figure out how many words have each letter?\n",
    "# do a sum\n",
    "letter_count = char_matrix.sum(0)"
   ]
  },
  {
   "cell_type": "code",
   "execution_count": null,
   "id": "a3b5169e",
   "metadata": {},
   "outputs": [],
   "source": [
    "# should be 26!\n",
    "letter_count.shape"
   ]
  },
  {
   "cell_type": "code",
   "execution_count": null,
   "id": "a4375b5e",
   "metadata": {},
   "outputs": [],
   "source": [
    "(letter_count / letter_count.sum()) * 100"
   ]
  },
  {
   "cell_type": "code",
   "execution_count": null,
   "id": "938efe40",
   "metadata": {},
   "outputs": [],
   "source": [
    "# put each one of these value in a dictionary\n",
    "letter_rank_dict = {l:lr for l, lr in zip(ascii_lowercase, letter_count)}"
   ]
  },
  {
   "cell_type": "code",
   "execution_count": null,
   "id": "495b51eb",
   "metadata": {},
   "outputs": [],
   "source": [
    "letter_rank_dict"
   ]
  },
  {
   "cell_type": "code",
   "execution_count": null,
   "id": "0eee7887",
   "metadata": {},
   "outputs": [],
   "source": [
    "letter_rank_df = pd.DataFrame.from_dict(data = letter_rank_dict, orient = 'index', \n",
    "                                       columns = ['score']).reset_index()"
   ]
  },
  {
   "cell_type": "code",
   "execution_count": null,
   "id": "04a4aade",
   "metadata": {},
   "outputs": [],
   "source": [
    "letter_rank_df.head()"
   ]
  },
  {
   "cell_type": "code",
   "execution_count": null,
   "id": "a3dc393d",
   "metadata": {},
   "outputs": [],
   "source": [
    "letter_rank_df.columns = ['letter', 'score']"
   ]
  },
  {
   "cell_type": "code",
   "execution_count": null,
   "id": "adaa20c7",
   "metadata": {},
   "outputs": [],
   "source": [
    "letter_rank_df['score_percent'] = letter_rank_df['score']* 100 / letter_rank_df['score'].sum()"
   ]
  },
  {
   "cell_type": "code",
   "execution_count": null,
   "id": "e79e72d4",
   "metadata": {},
   "outputs": [],
   "source": [
    "letter_rank_df.head()"
   ]
  },
  {
   "cell_type": "code",
   "execution_count": null,
   "id": "20ac1f15",
   "metadata": {},
   "outputs": [],
   "source": [
    "letter_rank_df['score_percent'].describe()"
   ]
  },
  {
   "cell_type": "code",
   "execution_count": null,
   "id": "091260ec",
   "metadata": {},
   "outputs": [],
   "source": [
    "letter_rank_df['is_vowel'] = int(0)"
   ]
  },
  {
   "cell_type": "code",
   "execution_count": null,
   "id": "95171cdb",
   "metadata": {},
   "outputs": [],
   "source": [
    "letter_rank_df['colors'] = 'black'"
   ]
  },
  {
   "cell_type": "code",
   "execution_count": null,
   "id": "5b866764",
   "metadata": {},
   "outputs": [],
   "source": [
    "letter_rank_df.loc[letter_rank_df['letter'].isin(vowels), 'colors'] = 'red'"
   ]
  },
  {
   "cell_type": "code",
   "execution_count": null,
   "id": "d0a30717",
   "metadata": {},
   "outputs": [],
   "source": [
    "vowels = ['a', 'e', 'i', 'o', 'u', 'y']\n",
    "letter_rank_df.loc[letter_rank_df['letter'].isin(vowels), 'is_vowel'] = 1"
   ]
  },
  {
   "cell_type": "code",
   "execution_count": null,
   "id": "1ab08978",
   "metadata": {},
   "outputs": [],
   "source": [
    "# plot\n",
    "#plt.style.use('_mpl-gallery')\n",
    "%matplotlib inline \n",
    "fig, ax = plt.subplots(tight_layout = True)\n",
    "\n",
    "ax.bar(x=letter_rank_df['letter'], height=letter_rank_df['score_percent'],\n",
    "       width=1, edgecolor=\"white\", linewidth=1, color = letter_rank_df['colors'])\n",
    "\n",
    "ax.set(xlim=(-1, 26), xticks=np.arange(0, 26),\n",
    "       ylim=(0, 12), yticks=np.arange(0, 12))\n",
    "ax.set_title('Frequency of Letter Occurrence in 5-letter words')\n",
    "ax.set_xlabel('Letter')\n",
    "ax.set_ylabel('Frequency (%)')\n",
    "\n",
    "plt.savefig(fname = 'letter_score.png', format = 'png',\n",
    "            dpi=96, pad_inches = .5, facecolor='white')\n",
    "#plt.show()"
   ]
  },
  {
   "cell_type": "code",
   "execution_count": null,
   "id": "c832310c",
   "metadata": {},
   "outputs": [],
   "source": []
  },
  {
   "cell_type": "code",
   "execution_count": null,
   "id": "224b3e9c",
   "metadata": {},
   "outputs": [],
   "source": []
  },
  {
   "cell_type": "code",
   "execution_count": null,
   "id": "38ce16f0",
   "metadata": {},
   "outputs": [],
   "source": []
  },
  {
   "cell_type": "code",
   "execution_count": null,
   "id": "12bbf105",
   "metadata": {},
   "outputs": [],
   "source": [
    "letter_rank_df = letter_rank_df.sort_values(by = 'score', ascending=False)"
   ]
  },
  {
   "cell_type": "code",
   "execution_count": null,
   "id": "aa496ec9",
   "metadata": {},
   "outputs": [],
   "source": [
    "letter_rank_df.head(10)"
   ]
  },
  {
   "cell_type": "code",
   "execution_count": null,
   "id": "ee35dad0",
   "metadata": {},
   "outputs": [],
   "source": []
  },
  {
   "cell_type": "code",
   "execution_count": null,
   "id": "68514e2b",
   "metadata": {},
   "outputs": [],
   "source": []
  },
  {
   "cell_type": "code",
   "execution_count": null,
   "id": "181bef94",
   "metadata": {},
   "outputs": [],
   "source": []
  },
  {
   "cell_type": "code",
   "execution_count": null,
   "id": "e13b0d5d",
   "metadata": {},
   "outputs": [],
   "source": []
  },
  {
   "cell_type": "code",
   "execution_count": null,
   "id": "c1f9f5b4",
   "metadata": {},
   "outputs": [],
   "source": [
    "# now, score each word\n",
    "df['n_unique_chars'] = df['lcase'].map(lambda x: len(set(x)))"
   ]
  },
  {
   "cell_type": "code",
   "execution_count": null,
   "id": "dbe8e8d8",
   "metadata": {},
   "outputs": [],
   "source": []
  },
  {
   "cell_type": "code",
   "execution_count": null,
   "id": "3fd1b0a7",
   "metadata": {},
   "outputs": [],
   "source": []
  },
  {
   "cell_type": "code",
   "execution_count": null,
   "id": "d17b4d03",
   "metadata": {},
   "outputs": [],
   "source": [
    "# now, add each letter.\n",
    "def sum_letters(x):\n",
    "    curr_score = 0\n",
    "    for l in x:\n",
    "        curr_score += letter_rank_dict[l]\n",
    "    \n",
    "    return curr_score"
   ]
  },
  {
   "cell_type": "code",
   "execution_count": null,
   "id": "f98b3186",
   "metadata": {},
   "outputs": [],
   "source": [
    "df['word_score'] = df['lcase'].map(sum_letters)"
   ]
  },
  {
   "cell_type": "code",
   "execution_count": null,
   "id": "184f81a8",
   "metadata": {},
   "outputs": [],
   "source": [
    "df.head()"
   ]
  },
  {
   "cell_type": "code",
   "execution_count": null,
   "id": "c67412fe",
   "metadata": {},
   "outputs": [],
   "source": [
    "sorted('bat')"
   ]
  },
  {
   "cell_type": "code",
   "execution_count": null,
   "id": "40419471",
   "metadata": {},
   "outputs": [],
   "source": []
  },
  {
   "cell_type": "code",
   "execution_count": null,
   "id": "2621525c",
   "metadata": {},
   "outputs": [],
   "source": [
    "# identify the word group\n",
    "df['word_group'] = df['lcase'].map(lambda x: hash(tuple(sorted(x))))"
   ]
  },
  {
   "cell_type": "code",
   "execution_count": null,
   "id": "8db7b80c",
   "metadata": {},
   "outputs": [],
   "source": [
    "# now, sort\n",
    "wdf = df.sort_values(by = ['n_unique_chars', 'word_score'], ascending = False)"
   ]
  },
  {
   "cell_type": "code",
   "execution_count": null,
   "id": "10825dbb",
   "metadata": {},
   "outputs": [],
   "source": [
    "wdf.head()"
   ]
  },
  {
   "cell_type": "code",
   "execution_count": null,
   "id": "33cc5650",
   "metadata": {},
   "outputs": [],
   "source": [
    "wg_df = wdf.loc[wdf['n_unique_chars'] == 5, ['word_group', 'word_score']].drop_duplicates()"
   ]
  },
  {
   "cell_type": "code",
   "execution_count": null,
   "id": "018c7e09",
   "metadata": {},
   "outputs": [],
   "source": [
    "wg_df = wg_df.sort_values(by = ['word_score'], ascending = False )"
   ]
  },
  {
   "cell_type": "code",
   "execution_count": null,
   "id": "391a763c",
   "metadata": {},
   "outputs": [],
   "source": [
    "top_five_wg = wg_df['word_group'].iloc[:10]"
   ]
  },
  {
   "cell_type": "code",
   "execution_count": null,
   "id": "490c63b4",
   "metadata": {},
   "outputs": [],
   "source": [
    "top_five_wg"
   ]
  },
  {
   "cell_type": "code",
   "execution_count": null,
   "id": "eb72a5c8",
   "metadata": {},
   "outputs": [],
   "source": [
    "for wg in top_five_wg:\n",
    "    #print(wg)\n",
    "    curr_word = wdf.loc[wdf['word_group']==wg, 'lcase'].tolist()\n",
    "    print(curr_word)\n",
    "    "
   ]
  },
  {
   "cell_type": "code",
   "execution_count": null,
   "id": "3ce12db7",
   "metadata": {},
   "outputs": [],
   "source": []
  },
  {
   "cell_type": "code",
   "execution_count": null,
   "id": "32313d69",
   "metadata": {},
   "outputs": [],
   "source": [
    "wg_df.head()"
   ]
  },
  {
   "cell_type": "code",
   "execution_count": null,
   "id": "00522424",
   "metadata": {},
   "outputs": [],
   "source": [
    "wg_df.head()"
   ]
  },
  {
   "cell_type": "code",
   "execution_count": null,
   "id": "cb80e3be",
   "metadata": {},
   "outputs": [],
   "source": [
    "# aries, arise, raise, and serai are the best words to start with"
   ]
  },
  {
   "cell_type": "code",
   "execution_count": null,
   "id": "91b5a59a",
   "metadata": {},
   "outputs": [],
   "source": [
    "# save this stuff\n",
    "# the df, the letter dictionary, the char_matrix, and the letter_dict_Rank"
   ]
  },
  {
   "cell_type": "code",
   "execution_count": null,
   "id": "43557874",
   "metadata": {},
   "outputs": [],
   "source": [
    "df.to_pickle(path = 'word_df.pkl')"
   ]
  },
  {
   "cell_type": "code",
   "execution_count": null,
   "id": "0d5195ac",
   "metadata": {},
   "outputs": [],
   "source": [
    "with open('letter_dict.pkl', 'wb') as handle:\n",
    "    pickle.dump(letter_dict, handle, protocol=pickle.HIGHEST_PROTOCOL)"
   ]
  },
  {
   "cell_type": "code",
   "execution_count": null,
   "id": "dbe9ba3d",
   "metadata": {},
   "outputs": [],
   "source": [
    "with open('char_matrix.pkl', 'wb') as handle:\n",
    "    pickle.dump(char_matrix, handle, protocol=pickle.HIGHEST_PROTOCOL)"
   ]
  },
  {
   "cell_type": "code",
   "execution_count": null,
   "id": "9ab055ec",
   "metadata": {},
   "outputs": [],
   "source": [
    "with open('letter_rank_dict.pkl', 'wb') as handle:\n",
    "    pickle.dump(letter_rank_dict, handle, protocol=pickle.HIGHEST_PROTOCOL)"
   ]
  },
  {
   "cell_type": "code",
   "execution_count": null,
   "id": "d899c2bf",
   "metadata": {},
   "outputs": [],
   "source": []
  },
  {
   "cell_type": "code",
   "execution_count": null,
   "id": "4541696d",
   "metadata": {},
   "outputs": [],
   "source": []
  },
  {
   "cell_type": "code",
   "execution_count": null,
   "id": "abddf82c",
   "metadata": {},
   "outputs": [],
   "source": []
  },
  {
   "cell_type": "code",
   "execution_count": null,
   "id": "8ac0d4b4",
   "metadata": {},
   "outputs": [],
   "source": [
    "# now, let's try this another way: count the letters in each position\n",
    "letter_matrix = np.zeros(shape = (26, 5))"
   ]
  },
  {
   "cell_type": "code",
   "execution_count": null,
   "id": "59e9d761",
   "metadata": {},
   "outputs": [],
   "source": []
  },
  {
   "cell_type": "code",
   "execution_count": null,
   "id": "0f37502d",
   "metadata": {},
   "outputs": [],
   "source": []
  },
  {
   "cell_type": "code",
   "execution_count": null,
   "id": "ab73d6c2",
   "metadata": {},
   "outputs": [],
   "source": []
  },
  {
   "cell_type": "code",
   "execution_count": null,
   "id": "86ec2a4a",
   "metadata": {},
   "outputs": [],
   "source": []
  },
  {
   "cell_type": "code",
   "execution_count": null,
   "id": "da7aa108",
   "metadata": {},
   "outputs": [],
   "source": [
    "def pop_letter_matrix(x):\n",
    "    \n",
    "    for i_ll, ll in enumerate(x):\n",
    "        # row, then columns\n",
    "        letter_matrix[letter_dict[ll], i_ll] += 1\n",
    "        \n",
    "    return None  "
   ]
  },
  {
   "cell_type": "code",
   "execution_count": null,
   "id": "41c8fc19",
   "metadata": {},
   "outputs": [],
   "source": [
    "output = df['lcase'].map(pop_letter_matrix)"
   ]
  },
  {
   "cell_type": "code",
   "execution_count": null,
   "id": "4d4563bd",
   "metadata": {},
   "outputs": [],
   "source": [
    "letter_matrix.shape"
   ]
  },
  {
   "cell_type": "code",
   "execution_count": null,
   "id": "53ad0b4c",
   "metadata": {},
   "outputs": [],
   "source": [
    "# now, we use the which max to find the index of the most common letter\n",
    "# this will tell us highest ranked position of each letter across all letters\n",
    "output = np.argmax(a = letter_matrix, axis = 1)"
   ]
  },
  {
   "cell_type": "code",
   "execution_count": null,
   "id": "52cfb659",
   "metadata": {},
   "outputs": [],
   "source": [
    "output"
   ]
  },
  {
   "cell_type": "code",
   "execution_count": null,
   "id": "bfb07a14",
   "metadata": {},
   "outputs": [],
   "source": []
  },
  {
   "cell_type": "code",
   "execution_count": null,
   "id": "293935a1",
   "metadata": {},
   "outputs": [],
   "source": []
  },
  {
   "cell_type": "code",
   "execution_count": null,
   "id": "17c3476e",
   "metadata": {},
   "outputs": [],
   "source": []
  },
  {
   "cell_type": "code",
   "execution_count": null,
   "id": "c006ab7e",
   "metadata": {},
   "outputs": [],
   "source": []
  }
 ],
 "metadata": {
  "kernelspec": {
   "display_name": "Python 3 (ipykernel)",
   "language": "python",
   "name": "python3"
  },
  "language_info": {
   "codemirror_mode": {
    "name": "ipython",
    "version": 3
   },
   "file_extension": ".py",
   "mimetype": "text/x-python",
   "name": "python",
   "nbconvert_exporter": "python",
   "pygments_lexer": "ipython3",
   "version": "3.8.12"
  }
 },
 "nbformat": 4,
 "nbformat_minor": 5
}
